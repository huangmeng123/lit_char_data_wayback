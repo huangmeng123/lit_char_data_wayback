{
 "metadata": {
  "language_info": {
   "codemirror_mode": {
    "name": "ipython",
    "version": 3
   },
   "file_extension": ".py",
   "mimetype": "text/x-python",
   "name": "python",
   "nbconvert_exporter": "python",
   "pygments_lexer": "ipython3",
   "version": "3.8.5"
  },
  "orig_nbformat": 2,
  "kernelspec": {
   "name": "python385jvsc74a57bd0c472dd4b1ab64fea4030c05559666a38dda7d131149fc4ee1b9b33c6f8e4a00a",
   "display_name": "Python 3.8.5 64-bit ('lcdata': conda)"
  }
 },
 "nbformat": 4,
 "nbformat_minor": 2,
 "cells": [
  {
   "cell_type": "code",
   "execution_count": 2,
   "metadata": {},
   "outputs": [],
   "source": [
    "from final_process.database_util import DatabaseConnection\n",
    "from final_process.book_char_dataset import BasicBookCharDataset"
   ]
  },
  {
   "cell_type": "code",
   "execution_count": 3,
   "metadata": {},
   "outputs": [],
   "source": [
    "db_conn = DatabaseConnection('lcdata-wayback')\n",
    "dataset = BasicBookCharDataset.load_from_database(db_conn)"
   ]
  },
  {
   "cell_type": "code",
   "execution_count": 4,
   "metadata": {},
   "outputs": [],
   "source": [
    "from final_process.key_translator import KeyTranslator"
   ]
  },
  {
   "cell_type": "code",
   "execution_count": 5,
   "metadata": {},
   "outputs": [],
   "source": [
    "kt = KeyTranslator.load_from_json_files(\n",
    "    'static/new_book_key_to_old_book_key_mapping.json',\n",
    "    'static/old_book_key_to_new_book_key_mapping.json',\n",
    "    'static/new_char_key_to_old_char_key_mapping.json',\n",
    "    'static/old_char_key_to_new_char_key_mapping.json',\n",
    ")"
   ]
  },
  {
   "cell_type": "code",
   "execution_count": 6,
   "metadata": {},
   "outputs": [],
   "source": [
    "from final_process.common_util import read_jsonl\n",
    "\n",
    "final_data_filename = 'data/v04/masked_char_data_filtered_by_name_and_description.jsonl'\n",
    "final_data = read_jsonl(final_data_filename)"
   ]
  },
  {
   "cell_type": "code",
   "execution_count": 7,
   "metadata": {},
   "outputs": [],
   "source": [
    "old_book_keys = list(set([(d['book_title'], d['source']) for d in final_data]))\n",
    "old_book_lookup = {\n",
    "    (d['book_title'], d['source']): d\n",
    "    for d in final_data\n",
    "}\n",
    "\n",
    "old_char_keys = list(set([(d['book_title'], d['source'], d['character_name']) for d in final_data]))\n",
    "old_char_lookup = {\n",
    "    (d['book_title'], d['source'], d['character_name']): d\n",
    "    for d in final_data\n",
    "}"
   ]
  },
  {
   "cell_type": "code",
   "execution_count": 8,
   "metadata": {},
   "outputs": [],
   "source": [
    "for old_book_key in old_book_keys:\n",
    "    new_book_key = kt.to_new_book_key(old_book_key)\n",
    "    assert(new_book_key in dataset.book_lookup) \n",
    "\n",
    "for new_book_key in dataset.book_lookup.keys():\n",
    "    old_book_key = kt.to_old_book_key(new_book_key)\n",
    "    assert(old_book_key in old_book_keys)"
   ]
  },
  {
   "cell_type": "code",
   "execution_count": 9,
   "metadata": {},
   "outputs": [],
   "source": [
    "for new_char_key in dataset.char_lookup.keys():\n",
    "    old_char_key = kt.to_old_char_key(new_char_key)\n",
    "    if old_char_key is None: continue\n",
    "    assert(old_book_key in old_book_keys)"
   ]
  },
  {
   "cell_type": "code",
   "execution_count": 10,
   "metadata": {},
   "outputs": [],
   "source": [
    "new_char_lookup = dataset.char_lookup\n",
    "new_book_lookup = dataset.book_lookup\n",
    "\n",
    "char_lookup = {}\n",
    "for new_key, new_info in new_char_lookup.items():\n",
    "    old_key = kt.to_old_char_key(new_key)\n",
    "    if old_key is None: continue\n",
    "    old_info = old_char_lookup[old_key]\n",
    "    char_lookup[old_key] = {\n",
    "        'book_title': old_info['book_title'],\n",
    "        'source': old_info['source'],\n",
    "        'character_name': old_info['character_name'],\n",
    "        'old_description': old_info['description'],\n",
    "        'new_description': new_info.description,\n",
    "    }\n",
    "char_infos = list(char_lookup.values())\n",
    "\n",
    "book_lookup = {}\n",
    "for new_key, new_info in new_book_lookup.items():\n",
    "    old_key = kt.to_old_book_key(new_key)\n",
    "    if old_key is None: continue\n",
    "    old_info = old_book_lookup[old_key]\n",
    "    book_lookup[old_key] = {\n",
    "        'book_title': old_info['book_title'],\n",
    "        'source': old_info['source'],\n",
    "        'old_summary': old_info['summary'],\n",
    "        'new_summary': new_info.summary,\n",
    "    }\n",
    "book_infos = list(book_lookup.values())"
   ]
  },
  {
   "cell_type": "code",
   "execution_count": 11,
   "metadata": {},
   "outputs": [],
   "source": [
    "def pre_clean_description(description, char_key):\n",
    "    while description.endswith(' Read an'):\n",
    "        description = description[:-8]\n",
    "    \n",
    "    description = description.replace(\n",
    "        'M&amp;Ms; or peanut',\n",
    "        'M&amp;Ms or peanut',\n",
    "    )\n",
    "\n",
    "    if char_key == ('Walden', 'shmoop', 'Thoreau'):\n",
    "        description = description[245:] + description[:245]\n",
    "    \n",
    "    return description"
   ]
  },
  {
   "cell_type": "code",
   "execution_count": 12,
   "metadata": {},
   "outputs": [
    {
     "output_type": "stream",
     "name": "stdout",
     "text": [
      "{'cliffnotes': 0, 'sparknotes': 0, 'shmoop': 0, 'litcharts': 0}\n"
     ]
    }
   ],
   "source": [
    "from final_process.text_diff_tool import TextDiffTool\n",
    "from IPython.display import clear_output\n",
    "\n",
    "count = 0\n",
    "source_counter = {\n",
    "    'cliffnotes': 0,\n",
    "    'sparknotes': 0,\n",
    "    'shmoop': 0,\n",
    "    'litcharts': 0,\n",
    "}\n",
    "for char_info in char_infos:\n",
    "    char_key = (\n",
    "        char_info['book_title'],\n",
    "        char_info['source'],\n",
    "        char_info['character_name'],\n",
    "    )\n",
    "    text1 = char_info['new_description']\n",
    "    text1 = pre_clean_description(text1, char_key)\n",
    "    text2 = char_info['old_description']\n",
    "    text_diff = TextDiffTool.diff_text(text1, text2)\n",
    "    repaired_text1 = repair_text(text1, text_diff)\n",
    "    forward_changes = text_diff.get_forward_changes()\n",
    "    changes = text_diff.get_changes()\n",
    "    changes = list(filter(\n",
    "        lambda c: c[0] != ' ' or c[1] != '',\n",
    "        changes,\n",
    "    ))\n",
    "    if len(changes) > 1:\n",
    "        count += 1\n",
    "        source_counter[char_info['source']] += 1\n",
    "\n",
    "        clear_output(wait=True)\n",
    "        print(char_info['book_title'])\n",
    "        print(char_info['source'])\n",
    "        print(char_info['character_name'])\n",
    "        print(text1)\n",
    "        print()\n",
    "        print(text2)\n",
    "        print()\n",
    "        print(changes)\n",
    "        input()\n",
    "    assert(repaired_text1 == text2)\n",
    "print(source_counter)"
   ]
  },
  {
   "cell_type": "code",
   "execution_count": 22,
   "metadata": {},
   "outputs": [],
   "source": [
    "from final_process.text_diff_tool import TextDiffTool\n",
    "from IPython.display import clear_output\n",
    "\n",
    "text_diffs = {}\n",
    "for char_info in char_infos:\n",
    "    char_key = (\n",
    "        char_info['book_title'],\n",
    "        char_info['source'],\n",
    "        char_info['character_name'],\n",
    "    )\n",
    "    text1 = char_info['new_description']\n",
    "    text1 = pre_clean_description(text1, char_key)\n",
    "    text2 = char_info['old_description']\n",
    "    text_diff = TextDiffTool.diff_text(text1, text2)\n",
    "    changes = text_diff.get_forward_changes()\n",
    "    filtered_changes = list(filter(\n",
    "        lambda c: c[0][1] - c[0][0] != 1 or c[1] != '',\n",
    "        changes,\n",
    "    ))\n",
    "    assert(len(filtered_changes) < 2)\n",
    "    if len(changes) > 0:\n",
    "        text_diffs[str(char_key)] = changes"
   ]
  },
  {
   "cell_type": "code",
   "execution_count": 24,
   "metadata": {},
   "outputs": [],
   "source": [
    "from final_process.text_diff_tool import TextDiffTool\n",
    "from IPython.display import clear_output\n",
    "\n",
    "text_diffs = {}\n",
    "for book_info in book_infos:\n",
    "    text1 = book_info['new_summary']\n",
    "    text2 = book_info['old_summary']\n",
    "    text_diff = TextDiffTool.diff_text(text1, text2)\n",
    "    changes = text_diff.get_forward_changes()\n",
    "    if len(changes) > 0:\n",
    "        text_diffs[str(char_key)] = changes"
   ]
  },
  {
   "cell_type": "code",
   "execution_count": 20,
   "metadata": {},
   "outputs": [],
   "source": [
    "from final_process.text_diff_tool import TextDiffTool\n",
    "from IPython.display import clear_output\n",
    "\n",
    "list_diffs = {}\n",
    "for char_key, char_info in old_char_lookup.items():\n",
    "    list1 = char_info['description'].split()\n",
    "    list2 = char_info['masked_description'].split()\n",
    "    # list2 = list2.replace('[MASK]', '???')\n",
    "    text_diff = TextDiffTool.diff_text(list1, list2)\n",
    "    changes = text_diff.get_forward_changes()\n",
    "    restored_list1 = TextDiffTool.restore_list(list1, changes)\n",
    "    assert(list2 == restored_list1)\n",
    "    list_diffs[str(char_key)] = changes"
   ]
  },
  {
   "cell_type": "code",
   "execution_count": 21,
   "metadata": {},
   "outputs": [],
   "source": [
    "import json\n",
    "with open('static/masked_desciption_changes.json', 'w') as out_f:\n",
    "    json.dump(list_diffs, out_f)"
   ]
  },
  {
   "cell_type": "code",
   "execution_count": 28,
   "metadata": {},
   "outputs": [],
   "source": [
    "final_data = read_jsonl('final_data/data.jsonl')\n",
    "final_char_lookup = {\n",
    "    (d['book_title'], d['source'], d['character_name']): d\n",
    "    for d in final_data\n",
    "}"
   ]
  },
  {
   "cell_type": "code",
   "execution_count": 30,
   "metadata": {},
   "outputs": [],
   "source": [
    "for key in char_lookup.keys():\n",
    "    assert(key in final_char_lookup)\n",
    "\n",
    "for key in final_char_lookup.keys():\n",
    "    assert(key in char_lookup)\n",
    "\n",
    "for key in old_char_lookup.keys():\n",
    "    old_char_info = old_char_lookup[key]\n",
    "    final_char_info = final_char_lookup[key]\n",
    "    assert(old_char_info['book_title'] == final_char_info['book_title'])\n",
    "    assert(old_char_info['source'] == final_char_info['source'])\n",
    "    assert(old_char_info['character_name'] == final_char_info['character_name'])\n",
    "    assert(old_char_info['description'] == final_char_info['description'])\n",
    "    assert(old_char_info['summary'] == final_char_info['summary'])\n",
    "    assert(old_char_info['masked_description'] == final_char_info['masked_description'])"
   ]
  },
  {
   "cell_type": "code",
   "execution_count": null,
   "metadata": {},
   "outputs": [],
   "source": []
  }
 ]
}