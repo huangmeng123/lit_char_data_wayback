{
 "metadata": {
  "language_info": {
   "codemirror_mode": {
    "name": "ipython",
    "version": 3
   },
   "file_extension": ".py",
   "mimetype": "text/x-python",
   "name": "python",
   "nbconvert_exporter": "python",
   "pygments_lexer": "ipython3",
   "version": "3.8.5-final"
  },
  "orig_nbformat": 2,
  "kernelspec": {
   "name": "python3",
   "display_name": "Python 3.8.5 64-bit ('lcdata': conda)",
   "metadata": {
    "interpreter": {
     "hash": "c472dd4b1ab64fea4030c05559666a38dda7d131149fc4ee1b9b33c6f8e4a00a"
    }
   }
  }
 },
 "nbformat": 4,
 "nbformat_minor": 2,
 "cells": [
  {
   "cell_type": "code",
   "execution_count": 1,
   "metadata": {},
   "outputs": [],
   "source": [
    "filename = 'data/v04/masked_char_data_filtered_by_name_and_description.jsonl'"
   ]
  },
  {
   "cell_type": "code",
   "execution_count": 2,
   "metadata": {},
   "outputs": [],
   "source": [
    "import json\n",
    "data = []\n",
    "with open(filename) as in_f:\n",
    "    for line in in_f.readlines():\n",
    "        data.append(json.loads(line))"
   ]
  },
  {
   "cell_type": "code",
   "execution_count": 3,
   "metadata": {},
   "outputs": [],
   "source": [
    "lit_keys = set()\n",
    "char_keys = set()\n",
    "for d in data:\n",
    "    title = d['book_title']\n",
    "    source = d['source']\n",
    "    char = d['character_name']\n",
    "    lit_keys.add((title, source))\n",
    "    char_keys.add((title, source, char))\n",
    "lit_keys = sorted(list(lit_keys))\n",
    "char_keys = sorted(list(char_keys))"
   ]
  },
  {
   "cell_type": "code",
   "execution_count": 10,
   "metadata": {},
   "outputs": [],
   "source": [
    "from data_processor.orig_data_center import OrigBookDataCenter"
   ]
  },
  {
   "cell_type": "code",
   "execution_count": 11,
   "metadata": {},
   "outputs": [],
   "source": [
    "obdc = OrigBookDataCenter.build_from_database()"
   ]
  },
  {
   "cell_type": "code",
   "execution_count": 7,
   "metadata": {},
   "outputs": [],
   "source": [
    "lit_infos = []\n",
    "for key in lit_keys:\n",
    "    d = obdc.literatures[key]\n",
    "    title = key[0]\n",
    "    source = key[1]\n",
    "    url = d.book_url\n",
    "    lit_infos.append((title, source, url))\n",
    "\n",
    "char_infos = []\n",
    "for key in char_keys:\n",
    "    d = obdc.characters[key]\n",
    "    title = key[0]\n",
    "    source = key[1]\n",
    "    char = key[2]\n",
    "    url = d.description_url\n",
    "    char_infos.append((title, source, char, url))"
   ]
  },
  {
   "cell_type": "code",
   "execution_count": 156,
   "metadata": {},
   "outputs": [],
   "source": [
    "import csv\n",
    "with open('temp_files/lit_infos.csv', 'w') as out_f:\n",
    "    writer = csv.writer(out_f, delimiter=',', quotechar='\"', quoting=csv.QUOTE_MINIMAL)\n",
    "    for info in lit_infos:\n",
    "        writer.writerow(info)\n",
    "\n",
    "with open('temp_files/char_infos.csv', 'w') as out_f:\n",
    "    writer = csv.writer(out_f, delimiter=',', quotechar='\"', quoting=csv.QUOTE_MINIMAL)\n",
    "    writer.writerow(['book_title', 'source', 'character_name', 'url'])\n",
    "    for info in char_infos:\n",
    "        writer.writerow(info)"
   ]
  },
  {
   "cell_type": "code",
   "execution_count": 131,
   "metadata": {},
   "outputs": [],
   "source": [
    "lit_infos_clean = []\n",
    "with open('temp_files/list_literatures_info_clean.txt') as in_f:\n",
    "    for line in in_f.readlines():\n",
    "        title, source, url = line.strip().split('|')\n",
    "        lit_infos_clean.append((title, source, url))"
   ]
  },
  {
   "cell_type": "code",
   "execution_count": 148,
   "metadata": {
    "tags": []
   },
   "outputs": [],
   "source": [
    "lit_lookup = {(title, source): url for title, source, url in lit_infos}\n",
    "translation = {\n",
    "    ('A Room of One’s Own', 'sparknotes'): (\"A Room of One's Own\", 'sparknotes'),\n",
    "    ('A Storm of Swords', 'sparknotes'): ('Game of Thrones: A Storm of Swords', 'sparknotes'),\n",
    "    ('Alice’s Adventures in Wonderland', 'sparknotes'): ('Alice in Wonderland', 'sparknotes'), \n",
    "    ('Angela’s Ashes', 'sparknotes'): (\"Angela's Ashes\", 'sparknotes'),\n",
    "    ('Cat’s Eye', 'sparknotes'): (\"Cat's Eye\", 'sparknotes'),\n",
    "    ('For Whom The Bell Tolls', 'sparknotes'): ('For Whom the Bell Tolls', 'sparknotes'),\n",
    "    ('Harry Potter and the Sorcerer’s Stone', 'sparknotes'): (\"Harry Potter and the Sorcerer's Stone\", 'sparknotes'), \n",
    "    ('Midnight’s Children', 'sparknotes'): (\"Midnight's Children\", 'sparknotes'),\n",
    "    ('Poisonwood Bible', 'sparknotes'): ('The Poisonwood Bible', 'sparknotes'),\n",
    "    ('Sophie’s Choice', 'sparknotes'): (\"Sophie's Choice\", 'sparknotes'),\n",
    "    ('The Bonesetter’s Daughter', 'sparknotes'): (\"The Bonesetter's Daughter\", 'sparknotes'),\n",
    "    ('The Epic of Gilgamesh', 'sparknotes'): ('Gilgamesh', 'sparknotes'),\n",
    "    ('The Oedipus Plays', 'sparknotes'): ('Antigone (The Oedipus Plays)', 'sparknotes'),\n",
    "    ('The Pilgrim’s Progress', 'sparknotes'): ('Pilgrim’s Progress', 'sparknotes'),\n",
    "    ('The Return of the King', 'sparknotes'): ('Lord of the Rings: The Return of the King', 'sparknotes'),\n",
    "    ('The Two Towers', 'sparknotes'): ('Lord of the Rings: The Two Towers', 'sparknotes'),\n",
    "    ('Through the Looking-Glass', 'sparknotes'): ('Through the Looking Glass', 'sparknotes'),\n",
    "}"
   ]
  },
  {
   "cell_type": "code",
   "execution_count": 149,
   "metadata": {},
   "outputs": [],
   "source": [
    "lit_infos_combined = []\n",
    "for title, source, url in lit_infos_clean:\n",
    "    try:\n",
    "        orig_url = lit_lookup[(title, source)]\n",
    "        lit_infos_combined.append({\n",
    "            'old_book_title': title,\n",
    "            'old_source': source,\n",
    "            'new_book_title': title,\n",
    "            'new_source': source,\n",
    "            'orig_url': orig_url,\n",
    "            'cached_url': url,\n",
    "        })\n",
    "        del lit_lookup[(title, source)]\n",
    "    except Exception:\n",
    "        old_title, old_source = translation[(title, source)]\n",
    "        orig_url = lit_lookup[(old_title, old_source)]\n",
    "        lit_infos_combined.append({\n",
    "            'old_book_title': old_title,\n",
    "            'old_source': old_source,\n",
    "            'new_book_title': title,\n",
    "            'new_source': source,\n",
    "            'orig_url': orig_url,\n",
    "            'cached_url': url,\n",
    "        })\n",
    "        del lit_lookup[(old_title, old_source)]\n",
    "assert(len(lit_lookup) == 0)"
   ]
  },
  {
   "cell_type": "code",
   "execution_count": 150,
   "metadata": {},
   "outputs": [],
   "source": [
    "with open('temp_files/full_lit_infos.jsonl', 'w') as out_f:\n",
    "    for d in lit_infos_combined:\n",
    "        line = json.dumps(d)\n",
    "        out_f.write(line+'\\n')"
   ]
  },
  {
   "cell_type": "code",
   "execution_count": 151,
   "metadata": {},
   "outputs": [],
   "source": [
    "with open('temp_files/list_characters_cached.txt') as in_f:\n",
    "    urls = in_f.readlines()"
   ]
  },
  {
   "cell_type": "code",
   "execution_count": 1,
   "metadata": {},
   "outputs": [],
   "source": [
    "import json, csv\n",
    "def read_jsonl(filename):\n",
    "    data = []\n",
    "    with open(filename) as in_f:\n",
    "        for line in in_f.readlines():\n",
    "            data.append(json.loads(line))\n",
    "    return data\n",
    "\n",
    "def write_jsonl(filename, data):\n",
    "    with open(filename, 'w') as out_f:\n",
    "        for d in data:\n",
    "            out_f.write(json.dumps(d)+'\\n')\n",
    "\n",
    "def read_csv(filename):\n",
    "    data = []\n",
    "    with open(filename) as in_f:\n",
    "        reader = csv.reader(in_f, delimiter=',', quotechar='\"', quoting=csv.QUOTE_MINIMAL)\n",
    "        header = None\n",
    "        for i, row in enumerate(reader):\n",
    "            if i == 0:\n",
    "                header = row\n",
    "            else:\n",
    "                data.append({\n",
    "                    key: val for key, val in zip(header, row)\n",
    "                })\n",
    "    return data"
   ]
  },
  {
   "cell_type": "code",
   "execution_count": 238,
   "metadata": {},
   "outputs": [],
   "source": [
    "lit_data = read_jsonl('temp_files/full_lit_infos.jsonl')\n",
    "char_data = read_csv('temp_files/char_infos.csv')\n",
    "char_cached_urls = []\n",
    "with open('temp_files/list_characters_cached_clean.txt') as in_f:\n",
    "    for line in in_f.readlines():\n",
    "        char_cached_urls.append(line.strip())"
   ]
  },
  {
   "cell_type": "code",
   "execution_count": 239,
   "metadata": {},
   "outputs": [],
   "source": [
    "lit_translation = {}\n",
    "for d in lit_data:\n",
    "    lit_translation[(d['old_book_title'], d['old_source'])] = (d['new_book_title'], d['new_source'])\n",
    "\n",
    "char_orig_urls = set()\n",
    "for d in char_data:\n",
    "    char_orig_urls.add(d['url'])"
   ]
  },
  {
   "cell_type": "code",
   "execution_count": 240,
   "metadata": {
    "tags": []
   },
   "outputs": [],
   "source": [
    "import re\n",
    "\n",
    "ex_urls = {\n",
    "    'https://www.shmoop.com/study-guides/literature/animal-dreams/stitch-and-b%2A%2A%2A%2A-club': 'https://www.shmoop.com/study-guides/literature/animal-dreams/stitch-and-b****-club',\n",
    "    'https://www.shmoop.com/study-guides/literature/freedom-franzen/jonathan': 'https://www.shmoop.com/study-guides/literature/freedom-franzen/Jonathan',\n",
    "    'https://www.shmoop.com/study-guides/literature/speak-memory/vladimir-dmitrievich-nabokov': 'https://www.shmoop.com/study-guides/literature/speak-memory/Vladimir-dmitrievich-nabokov',\n",
    "    'https://www.shmoop.com/study-guides/literature/wings-book/jamison': 'https://www.shmoop.com/study-guides/literature/wings-book/Jamison',\n",
    "}\n",
    "\n",
    "char_url_translation = {}\n",
    "seen = set()\n",
    "for url in char_cached_urls:\n",
    "    sub_url = re.search(r'^http://web.archive.org/web/\\d{14}/(.*)$', url).group(1)\n",
    "    temp_url = sub_url\n",
    "    if sub_url in ex_urls:\n",
    "        temp_url = ex_urls[sub_url]\n",
    "    temp_url = temp_url.replace('http:', 'https:')\n",
    "    assert(temp_url in char_orig_urls)\n",
    "    seen.add(temp_url)\n",
    "    char_url_translation[temp_url] = url"
   ]
  },
  {
   "cell_type": "code",
   "execution_count": 241,
   "metadata": {},
   "outputs": [],
   "source": [
    "full_char_data = []\n",
    "for d in char_data:\n",
    "    full_char_data.append({\n",
    "        'old_book_title': d['book_title'],\n",
    "        'old_source': d['source'],\n",
    "        'old_character_name': d['character_name'],\n",
    "        'orig_url': d['url'],\n",
    "        'cached_url': char_url_translation[d['url']],\n",
    "    })\n",
    "\n",
    "with open('temp_files/partial_char_infos.jsonl', 'w') as out_f:\n",
    "    for d in full_char_data:\n",
    "        out_f.write(json.dumps(d)+'\\n')"
   ]
  },
  {
   "cell_type": "code",
   "execution_count": 242,
   "metadata": {},
   "outputs": [],
   "source": [
    "data = read_jsonl('temp_files/partial_char_infos.jsonl')\n",
    "# with open('temp_files/list_characters_cached_clean.txt', 'w') as out_f:\n",
    "#     for d in data:\n",
    "#         out_f.write(d['cached_url']+'\\n')"
   ]
  },
  {
   "cell_type": "code",
   "execution_count": 243,
   "metadata": {},
   "outputs": [],
   "source": [
    "obdc_wayback = OrigBookDataCenter.build_from_wayback_database()"
   ]
  },
  {
   "cell_type": "code",
   "execution_count": 244,
   "metadata": {},
   "outputs": [],
   "source": [
    "def get_char_keys(local_obdc, url):\n",
    "    keys = []\n",
    "    for key, info in local_obdc.characters.items():\n",
    "        if info.description_url == url:\n",
    "            keys.append(key)\n",
    "    return keys"
   ]
  },
  {
   "cell_type": "code",
   "execution_count": 245,
   "metadata": {},
   "outputs": [],
   "source": [
    "char_infos = read_jsonl('temp_files/partial_char_infos.jsonl')\n",
    "lit_infos = read_jsonl('temp_files/full_lit_infos.jsonl')"
   ]
  },
  {
   "cell_type": "code",
   "execution_count": 246,
   "metadata": {},
   "outputs": [],
   "source": [
    "lit_key_lookup = {}\n",
    "for info in lit_infos:\n",
    "    title_lookup[(info['old_book_title'], info['old_source'])] = (info['new_book_title'], info['new_source'])"
   ]
  },
  {
   "cell_type": "code",
   "execution_count": 331,
   "metadata": {},
   "outputs": [
    {
     "output_type": "stream",
     "name": "stdout",
     "text": [
      "finished\n"
     ]
    }
   ],
   "source": [
    "full_char_infos = []\n",
    "for info in char_infos:\n",
    "    title = info['old_book_title']\n",
    "    source = info['old_source']\n",
    "    char_name = info['old_character_name']\n",
    "    url = info['cached_url']\n",
    "    keys = get_char_keys(obdc_wayback, url)\n",
    "\n",
    "    new_title, new_source = title_lookup[(title, source)]\n",
    "    temp_name = char_name\n",
    "    if new_source == 'litcharts' and char_name == 'Viscount de Valvert':\n",
    "        temp_name = 'Cyrano de Bergerac'\n",
    "    elif new_source == 'litcharts' and char_name in [\n",
    "        'Ezra D. Wannafeller',\n",
    "        'Mrs. Higgins',\n",
    "    ]:\n",
    "        temp_name = 'Eliza Doolittle'\n",
    "    elif new_source == 'litcharts' and char_name in [\n",
    "        'Adèle Ratignolle',\n",
    "        'Léonce Pontellier',\n",
    "        'Mademoiselle Reisz',\n",
    "    ]:\n",
    "        temp_name = 'Edna Pontellier'\n",
    "    elif new_source == 'litcharts' and char_name in [\n",
    "        'Girl-Cousin',\n",
    "    ]:\n",
    "        temp_name = 'Nicholas'\n",
    "    elif new_source == 'litcharts' and char_name in [\n",
    "        'The Scholar',\n",
    "    ]:\n",
    "        temp_name = 'The Schoolmaster'\n",
    "    elif new_source == 'litcharts' and char_name in [\n",
    "        '\\nBridget Allworthy % \\n',\n",
    "        '\\nHarriet Fitzpatrick % \\n',\n",
    "        '\\nJenny Jones % \\n',\n",
    "        '\\nMr. Allworthy % \\n',\n",
    "        '\\nMr. Fitzpatrick % \\n',\n",
    "        '\\nMrs. Western % \\n',\n",
    "        '\\nSophia Western % \\n',\n",
    "        '\\nSquire Western % \\n',\n",
    "        '\\nTom Jones % \\n',\n",
    "    ]:\n",
    "        temp_name = char_name.replace('%', '')\n",
    "    clean_name = ' '.join(temp_name.strip().split())\n",
    "    candidate_keys = [\n",
    "        (title, new_source, temp_name),\n",
    "        # (title, new_source, clean_name),\n",
    "        (new_title, new_source, temp_name),\n",
    "        # (new_title, new_source, clean_name),\n",
    "    ]\n",
    "    for key in candidate_keys:\n",
    "        if key in keys:\n",
    "            full_char_infos.append({\n",
    "                'old_book_title': info['old_book_title'],\n",
    "                'old_source': info['old_source'],\n",
    "                'old_character_name': info['old_character_name'],\n",
    "                'new_book_title': key[0],\n",
    "                'new_source': key[1],\n",
    "                'new_character_name': key[2],\n",
    "                'orig_url': info['orig_url'],\n",
    "                'cached_url': info['cached_url'],\n",
    "            })\n",
    "            break\n",
    "    else:\n",
    "        print((new_title, source, char_name))\n",
    "        print()\n",
    "        print(keys)\n",
    "        print(url)\n",
    "        break\n",
    "print('finished')"
   ]
  },
  {
   "cell_type": "code",
   "execution_count": 332,
   "metadata": {},
   "outputs": [],
   "source": [
    "write_jsonl('temp_files/full_char_infos.jsonl', full_char_infos)"
   ]
  },
  {
   "cell_type": "code",
   "execution_count": 405,
   "metadata": {},
   "outputs": [],
   "source": [
    "obdc_wayback = OrigBookDataCenter.build_from_wayback_database()"
   ]
  },
  {
   "cell_type": "code",
   "execution_count": 406,
   "metadata": {},
   "outputs": [],
   "source": [
    "lit_infos = read_jsonl('temp_files/full_lit_infos.jsonl')\n",
    "char_infos = read_jsonl('temp_files/full_char_infos.jsonl')"
   ]
  },
  {
   "cell_type": "code",
   "execution_count": 407,
   "metadata": {},
   "outputs": [],
   "source": [
    "data = []\n",
    "key_lookup = {}\n",
    "for info in char_infos:\n",
    "    title = info['new_book_title']\n",
    "    source= info['new_source']\n",
    "    char_name = info['new_character_name']\n",
    "    lit_key = (title, source)\n",
    "    char_key = (title, source, char_name)\n",
    "    key_lookup[char_key] = (info['old_book_title'], info['old_source'], info['old_character_name'])\n",
    "\n",
    "    lit_data = obdc_wayback.literatures[lit_key]\n",
    "    char_data = obdc_wayback.characters[char_key]\n",
    "    data.append({\n",
    "        'book_title': title,\n",
    "        'source': source,\n",
    "        'character_name': char_name,\n",
    "        'summary': lit_data.summary_text,\n",
    "        'description': char_data.description_text,\n",
    "    })"
   ]
  },
  {
   "cell_type": "code",
   "execution_count": 408,
   "metadata": {},
   "outputs": [],
   "source": [
    "write_jsonl('temp_files/raw_char_data_wayback.jsonl', data)"
   ]
  },
  {
   "cell_type": "code",
   "execution_count": 361,
   "metadata": {},
   "outputs": [],
   "source": [
    "old_char_data = read_jsonl('data/v04/masked_char_data_filtered_by_name_and_description.jsonl')\n",
    "\n",
    "old_data = {}\n",
    "for d in old_char_data:\n",
    "    key = (d['book_title'], d['source'], d['character_name'])\n",
    "    old_data[key] = {\n",
    "        'book_title': d['book_title'],\n",
    "        'source': d['source'],\n",
    "        'character_name': d['character_name'],\n",
    "        'summary': d['summary'],\n",
    "        'description': d['description'],\n",
    "        'masked_description': d['masked_description'],\n",
    "    }\n",
    "\n",
    "old_char_data = read_jsonl('data/v04/truncated_char_data_filtered_by_name_and_description.jsonl')\n",
    "for d in old_char_data:\n",
    "    key = (d['book_title'], d['source'], d['character_name'])\n",
    "    old_data[key]['coref_truncated_summary'] = d['coref_truncated_summary']"
   ]
  },
  {
   "cell_type": "code",
   "execution_count": 362,
   "metadata": {},
   "outputs": [],
   "source": [
    "import difflib\n",
    "\n",
    "def print_diff(s1, s2):\n",
    "    prev_mode = None\n",
    "    buf = ''\n",
    "    si = -1\n",
    "    for i, s in enumerate(difflib.ndiff(s1, s2)):\n",
    "        if s[0] == ' ':\n",
    "            if len(buf) > 0:\n",
    "                print(f'{\"Add\" if prev_mode == \"+\" else \"Delete\"} \"{buf}\" (position {si} to {i-1})')\n",
    "                buf = ''\n",
    "                si = i\n",
    "                prev_mode = None\n",
    "        elif s[0] == '-':\n",
    "            if prev_mode == '-':\n",
    "                buf += s[-1]\n",
    "                continue\n",
    "            elif prev_mode == '+':\n",
    "                print(f'Add \"{buf}\" (position {si} to {i-1})')\n",
    "            buf = s[-1]\n",
    "            si = i\n",
    "            prev_mode = '-'\n",
    "        elif s[0] == '+':\n",
    "            if prev_mode == '+':\n",
    "                buf += s[-1]\n",
    "                continue\n",
    "            elif prev_mode == '-':\n",
    "                print(f'Delete \"{buf}\" (position {si} to {i-1})')\n",
    "            buf = s[-1]\n",
    "            si = i\n",
    "            prev_mode = '+'\n",
    "    if len(buf) > 0:\n",
    "        print(f'{\"Add\" if prev_mode == \"+\" else \"Delete\"} \"{buf}\" (position {si} to {i-1})')"
   ]
  },
  {
   "cell_type": "code",
   "execution_count": 422,
   "metadata": {
    "tags": []
   },
   "outputs": [
    {
     "output_type": "stream",
     "name": "stdout",
     "text": [
      "('The Epic of Gilgamesh', 'sparknotes', 'Enkidu')\nDelete \"and\" (position 217 to 219)\nDelete \"is \" (position 221 to 223)\nAdd \"nd\" (position 225 to 226)\nDelete \"lmost\" (position 227 to 231)\nDelete \"h\" (position 233 to 233)\nAdd \" almost his \" (position 236 to 247)\n\n'Companion and friend of Gilgamesh. Hairy-bodied and brawny, Enkidu was raised by animals. Even after he joins the civilized world, he retains many of his undomesticated characteristics. Enkidulooks much like Gilgamesh and is almost his physical equal. He aspires to be Gilgamesh’s rival but instead becomes his soul mate. The gods punish Gilgamesh and Enkidu by giving Enkidu a slow, painful, inglorious death for killing the demon Humbaba and the Bull of Heaven.'\n----\n'Companion and friend of Gilgamesh. Hairy-bodied and brawny, Enkidu was raised by animals. Even after he joins the civilized world, he retains many of his undomesticated characteristics. Enkidulooks much like Gilgameshand is almost hisphysical equal. He aspires to be Gilgamesh’s rival but instead becomes his soul mate. The gods punish Gilgamesh and Enkidu by giving Enkidu a slow, painful, inglorious death for killing the demon Humbaba and the Bull of Heaven.'\n\n"
     ]
    }
   ],
   "source": [
    "count = 0\n",
    "lit_visited = set()\n",
    "char_visited = set()\n",
    "for d in data:\n",
    "    key = (d['book_title'], d['source'], d['character_name'])\n",
    "    old_key = key_lookup[key]\n",
    "    old_d = old_data[old_key]\n",
    "\n",
    "    lit_key = (d['book_title'], d['source'])\n",
    "    summ = d['summary']\n",
    "    old_summ = old_d['summary']\n",
    "\n",
    "    # compare summary\n",
    "    if not lit_key in lit_visited:\n",
    "        lit_visited.add(lit_key)\n",
    "        # if lit_key == ('Melville Stories', 'sparknotes'):\n",
    "        #     print(summ)\n",
    "        #     print('----')\n",
    "        #     print(old_summ)\n",
    "\n",
    "        if len(d['summary']) != len(old_d['summary']):\n",
    "            lit_visited.add((d['book_title'], d['source']))\n",
    "            print((d['book_title'], d['source']))\n",
    "            print_diff(old_d['summary'], d['summary'])\n",
    "            print()\n",
    "    \n",
    "    # compare description\n",
    "    desc = d['description']\n",
    "    old_desc = old_d['description']\n",
    "    \n",
    "    \n",
    "    i = desc.find(' in-depth analysis of')\n",
    "    if i > -1: desc = desc[:i]\n",
    "\n",
    "    replacements = [\n",
    "        (' Read an', ''),\n",
    "        ('( )', '()'),\n",
    "        ('$ ,', '$,'),\n",
    "        ('– )', '–)'),\n",
    "        ('slum, in', 'slum,in'),\n",
    "        ('Enkidu looks', 'Enkidulooks'),\n",
    "        ('Gilgamesh and', 'Gilgameshand'),\n",
    "        ('Gilgamesh is', 'Gilgameshis'),\n",
    "        ('ladinos and', 'ladinosand'),\n",
    "        ('case. Julia', 'case.Julia'),\n",
    "        ('Obasan (aunt)', 'Obasan ()'),\n",
    "        ('(I.iii. )', '(I.iii.)'),\n",
    "        ('Gilgameshis—hold', 'Gilgamesh is—hold'),\n",
    "        ('Gilgameshand', 'Gilgamesh and'),\n",
    "    ]\n",
    "    for a, b in replacements:\n",
    "        desc = desc.replace(a, b)\n",
    "\n",
    "    if not key in char_visited and d['character_name'] != 'Unnamed narrator':\n",
    "        if len(desc) != len(old_desc):\n",
    "            char_visited.add(key)\n",
    "            print(key)\n",
    "            print_diff(old_desc, desc)\n",
    "            print()\n",
    "            print(repr(desc))\n",
    "            print('----')\n",
    "            print(repr(old_desc))\n",
    "            print()\n",
    "            break"
   ]
  },
  {
   "cell_type": "code",
   "execution_count": 367,
   "metadata": {
    "tags": []
   },
   "outputs": [
    {
     "output_type": "stream",
     "name": "stdout",
     "text": [
      "http://web.archive.org/web/20201209063839/https://www.sparknotes.com/lit/1984/characters/\nhttp://web.archive.org/web/20201024065851/https://www.sparknotes.com/lit/2001/characters/\nhttp://web.archive.org/web/20201220160729/https://www.sparknotes.com/lit/bend-in-the-river/characters/\nhttp://web.archive.org/web/20201220160844/https://www.sparknotes.com/lit/borderpassage/characters/\nhttp://web.archive.org/web/20201024100222/https://www.sparknotes.com/lit/a-clash-of-kings/characters/\nhttp://web.archive.org/web/20201220163601/https://www.sparknotes.com/short-stories/a-clean-well-lighted-place/characters/\nhttp://web.archive.org/web/20201220161323/https://www.sparknotes.com/lit/clockworkorange/characters/\nhttp://web.archive.org/web/20201020145709/https://www.sparknotes.com/lit/adaynopigs/characters/\nhttp://web.archive.org/web/20200921094058/https://www.sparknotes.com/lit/deathinthefamily/characters/\nhttp://web.archive.org/web/20201019221423/https://www.sparknotes.com/short-stories/a-death-in-the-woods/characters/\nhttp://web.archive.org/web/20201025214207/https://www.sparknotes.com/lit/dollhouse/characters/\nhttp://web.archive.org/web/20201028123350/https://www.sparknotes.com/lit/farewell/characters/\nhttp://web.archive.org/web/20201220160503/https://www.sparknotes.com/lit/a-game-of-thrones/characters/\nhttp://web.archive.org/web/20201220161642/https://www.sparknotes.com/lit/gatheringofoldmen/characters/\nhttp://web.archive.org/web/20201220161640/https://www.sparknotes.com/lit/gesture-life/characters/\nhttp://web.archive.org/web/20201220163547/https://www.sparknotes.com/short-stories/a-good-man-is-hard-to-find/characters/\nhttp://web.archive.org/web/20201220163547/https://www.sparknotes.com/short-stories/a-hunger-artist/characters/\nhttp://web.archive.org/web/20200924160954/https://www.sparknotes.com/lit/lessonbefore/characters/\nhttp://web.archive.org/web/20201028173519/https://www.sparknotes.com/lit/amanforallseasons/characters/\nhttp://web.archive.org/web/20201031135227/https://www.sparknotes.com/lit/medievallife/characters/\nhttp://web.archive.org/web/20200929080402/https://www.sparknotes.com/shakespeare/msnd/characters/\nhttp://web.archive.org/web/20200924044942/https://www.sparknotes.com/lit/midwifestale/characters/\nhttp://web.archive.org/web/20201027035501/https://www.sparknotes.com/lit/millionlittle/characters/\nhttp://web.archive.org/web/20201022233356/https://www.sparknotes.com/lit/passage/characters/\nhttp://web.archive.org/web/20201220163641/https://www.sparknotes.com/short-stories/a-perfect-day-for-bananafish/characters/\nhttp://web.archive.org/web/20200926183054/https://www.sparknotes.com/lit/portraitartist/characters/\nhttp://web.archive.org/web/20201109220558/https://www.sparknotes.com/lit/raisin/characters/\nhttp://web.archive.org/web/20201220162730/https://www.sparknotes.com/lit/roomofonesown/characters/\nhttp://web.archive.org/web/20201014133649/https://www.sparknotes.com/short-stories/a-rose-for-emily/characters/\nhttp://web.archive.org/web/20201220162835/https://www.sparknotes.com/lit/separate/characters/\nhttp://web.archive.org/web/20201117070842/https://www.sparknotes.com/lit/streetcar/characters/\nhttp://web.archive.org/web/20201021164742/https://www.sparknotes.com/lit/a-tale-of-two-cities/characters/\nhttp://web.archive.org/web/20201220161022/https://www.sparknotes.com/lit/brooklyn/characters/\nhttp://web.archive.org/web/20201023220022/https://www.sparknotes.com/short-stories/a-very-old-man-with-enormous-wings/characters/\nhttp://web.archive.org/web/20201022092353/https://www.sparknotes.com/drama/viewbridge/characters/\nhttp://web.archive.org/web/20201025201518/https://www.sparknotes.com/lit/yellowraft/characters/\nhttp://web.archive.org/web/20201031133227/https://www.sparknotes.com/short-stories/a-and-p/characters/\nhttp://web.archive.org/web/20201027060321/https://www.sparknotes.com/lit/fiveaprils/characters/\nhttp://web.archive.org/web/20201220160512/https://www.sparknotes.com/lit/adambede/characters/\nhttp://web.archive.org/web/20201220160608/https://www.sparknotes.com/lit/aliasgrace/characters/\nhttp://web.archive.org/web/20201127015655/https://www.sparknotes.com/lit/alice/characters/\nhttp://web.archive.org/web/20201220160652/https://www.sparknotes.com/lit/allbutmylife/characters/\nhttp://web.archive.org/web/20201105232033/https://www.sparknotes.com/lit/allquiet/characters/\nhttp://web.archive.org/web/20201220160548/https://www.sparknotes.com/lit/all-the-light/characters/\nhttp://web.archive.org/web/20201220160149/https://www.sparknotes.com/drama/americandream/characters/\nhttp://web.archive.org/web/20201025202659/https://www.sparknotes.com/lit/americanah/characters/\nhttp://web.archive.org/web/20201220160313/https://www.sparknotes.com/drama/idealhusband/characters/\nhttp://web.archive.org/web/20201220160158/https://www.sparknotes.com/drama/an-inspector-calls/characters/\nhttp://web.archive.org/web/20201220163714/https://www.sparknotes.com/short-stories/an-occurrence-at-owl-creek-bridge/characters/\nhttp://web.archive.org/web/20201030010159/https://www.sparknotes.com/lit/andthenthere/characters/\nhttp://web.archive.org/web/20201114002346/https://www.sparknotes.com/lit/angelasashes/characters/\nhttp://web.archive.org/web/20201220160249/https://www.sparknotes.com/drama/angels/characters/\nhttp://web.archive.org/web/20201031072314/https://www.sparknotes.com/lit/animaldreams/characters/\nhttp://web.archive.org/web/20201222143629/https://www.sparknotes.com/lit/animalfarm/characters/\nhttp://web.archive.org/web/20201220160653/https://www.sparknotes.com/lit/anna/characters/\nhttp://web.archive.org/web/20201220160714/https://www.sparknotes.com/lit/anneofgreengables/characters/\nhttp://web.archive.org/web/20201220160651/https://www.sparknotes.com/lit/anniejohn/characters/\nhttp://web.archive.org/web/20201030023040/https://www.sparknotes.com/lit/anthem/characters/\nhttp://web.archive.org/web/20201127015350/http://www.sparknotes.com/drama/antigone/characters/\nhttp://web.archive.org/web/20201127014717/https://www.sparknotes.com/drama/oedipus/characters/\nhttp://web.archive.org/web/20200919220917/https://www.sparknotes.com/shakespeare/antony/characters/\nhttp://web.archive.org/web/20201220160246/https://www.sparknotes.com/drama/arcadia/characters/\nhttp://web.archive.org/web/20201220160746/https://www.sparknotes.com/lit/arms-and-the-man/characters/\nhttp://web.archive.org/web/20201024070759/https://www.sparknotes.com/lit/arrowsmith/characters/\nhttp://web.archive.org/web/20200919213826/https://www.sparknotes.com/lit/asilay/characters/\nhttp://web.archive.org/web/20201101014738/https://www.sparknotes.com/shakespeare/asyoulikeit/characters/\nhttp://web.archive.org/web/20201126074106/https://www.sparknotes.com/lit/atlasshrugged/characters/\nhttp://web.archive.org/web/20201019221241/https://www.sparknotes.com/short-stories/babylon-revisited/characters/\nhttp://web.archive.org/web/20201220163700/https://www.sparknotes.com/short-stories/barn-burning/characters/\nhttp://web.archive.org/web/20200928091043/https://www.sparknotes.com/lit/belcanto/characters/\nhttp://web.archive.org/web/20201127013626/http://www.sparknotes.com/lit/beloved/characters/\nhttp://web.archive.org/web/20201031130543/https://www.sparknotes.com/lit/beowulf/characters/\nhttp://web.archive.org/web/20201220160749/https://www.sparknotes.com/lit/betweentheworld/characters/\nhttp://web.archive.org/web/20201029074610/https://www.sparknotes.com/lit/newtestament/characters/\nhttp://web.archive.org/web/20201127013723/http://www.sparknotes.com/lit/oldtestament/characters/\nhttp://web.archive.org/web/20201220160804/https://www.sparknotes.com/lit/billybudd/characters/\nhttp://web.archive.org/web/20201220160756/https://www.sparknotes.com/lit/birdbybird/characters/\nhttp://web.archive.org/web/20201029145531/https://www.sparknotes.com/lit/blackboy/characters/\nhttp://web.archive.org/web/20201020180340/https://www.sparknotes.com/lit/bleakhouse/characters/\nhttp://web.archive.org/web/20201114002122/http://www.sparknotes.com/lit/ultima/characters/\nhttp://web.archive.org/web/20200928035759/https://www.sparknotes.com/lit/beasts/characters/\nhttp://web.archive.org/web/20201112011259/https://www.sparknotes.com/lit/bravenew/characters/\nhttp://web.archive.org/web/20201220160920/https://www.sparknotes.com/lit/breadgivers/characters/\nhttp://web.archive.org/web/20201127012837/http://www.sparknotes.com/lit/breatheyes/characters/\nhttp://web.archive.org/web/20201220160933/https://www.sparknotes.com/lit/brideshead-revisited/characters/\nhttp://web.archive.org/web/20201220162846/https://www.sparknotes.com/lit/terabithia/characters/\nhttp://web.archive.org/web/20201220163652/https://www.sparknotes.com/short-stories/brokeback-mountain/characters/\nhttp://web.archive.org/web/20201220161117/https://www.sparknotes.com/lit/candide/characters/\nhttp://web.archive.org/web/20201024090818/https://www.sparknotes.com/drama/cat/characters/\nhttp://web.archive.org/web/20201220161152/https://www.sparknotes.com/lit/catseye/characters/\nhttp://web.archive.org/web/20201012162551/https://www.sparknotes.com/lit/catch22/characters/\nhttp://web.archive.org/web/20201220161142/https://www.sparknotes.com/lit/catching-fire/characters/\nhttp://web.archive.org/web/20201220163733/https://www.sparknotes.com/short-stories/cathedral/characters/\nhttp://web.archive.org/web/20201029051526/https://www.sparknotes.com/lit/ceremony/characters/\nhttp://web.archive.org/web/20201220161145/https://www.sparknotes.com/lit/changes/characters/\nhttp://web.archive.org/web/20201112033132/https://www.sparknotes.com/lit/charlie/characters/\nhttp://web.archive.org/web/20201220161232/https://www.sparknotes.com/lit/childofthedark/characters/\nhttp://web.archive.org/web/20201220161234/https://www.sparknotes.com/lit/childhoodsend/characters/\nhttp://web.archive.org/web/20201220161300/https://www.sparknotes.com/lit/clarissa/characters/\nhttp://web.archive.org/web/20201127164402/https://www.sparknotes.com/drama/cloudnine/characters/\nhttp://web.archive.org/web/20200926193654/https://www.sparknotes.com/lit/coldmountain/characters/\nhttp://web.archive.org/web/20201220161310/https://www.sparknotes.com/lit/coldsassy/characters/\nhttp://web.archive.org/web/20201023221919/https://www.sparknotes.com/lit/comingofage/characters/\nhttp://web.archive.org/web/20201220163744/https://www.sparknotes.com/short-stories/continuity-of-parks/characters/\nhttp://web.archive.org/web/20201220161338/https://www.sparknotes.com/lit/crime/characters/\nhttp://web.archive.org/web/20201220161354/https://www.sparknotes.com/lit/cry/characters/\nhttp://web.archive.org/web/20201024194845/https://www.sparknotes.com/lit/cyrano/characters/\nhttp://web.archive.org/web/20200923001908/https://www.sparknotes.com/lit/daisy/characters/\nhttp://web.archive.org/web/20201025115057/https://www.sparknotes.com/lit/copperfield/characters/\nhttp://web.archive.org/web/20201028023916/https://www.sparknotes.com/lit/deadmanwalking/characters/\nhttp://web.archive.org/web/20201220161515/https://www.sparknotes.com/lit/deathbenot/characters/\nhttp://web.archive.org/web/20201024092223/https://www.sparknotes.com/lit/salesman/characters/\nhttp://web.archive.org/web/20201220161432/https://www.sparknotes.com/lit/demian/characters/\nhttp://web.archive.org/web/20201114002142/http://www.sparknotes.com/lit/annefrank/characters/\nhttp://web.archive.org/web/20201220161451/https://www.sparknotes.com/lit/diceyssong/characters/\nhttp://web.archive.org/web/20201220161557/https://www.sparknotes.com/lit/distantview/characters/\nhttp://web.archive.org/web/20201220161500/https://www.sparknotes.com/lit/divergent/characters/\nhttp://web.archive.org/web/20201027175043/https://www.sparknotes.com/lit/doctorfaustus/characters/\nhttp://web.archive.org/web/20200927173559/https://www.sparknotes.com/lit/donquixote/characters/\nhttp://web.archive.org/web/20201124183010/https://www.sparknotes.com/lit/jekyll/characters/\nhttp://web.archive.org/web/20201124205646/https://www.sparknotes.com/lit/dracula/characters/\nhttp://web.archive.org/web/20201127012939/http://www.sparknotes.com/lit/dubliners/characters/\nhttp://web.archive.org/web/20201112012614/https://www.sparknotes.com/lit/dune/characters/\nhttp://web.archive.org/web/20201220161541/https://www.sparknotes.com/lit/eastofeden/characters/\nhttp://web.archive.org/web/20201026195329/https://www.sparknotes.com/lit/educated/characters/\nhttp://web.archive.org/web/20201220161548/https://www.sparknotes.com/lit/eleanor-and-park/characters/\nhttp://web.archive.org/web/20200922045319/https://www.sparknotes.com/drama/electra/characters/\nhttp://web.archive.org/web/20200924211915/https://www.sparknotes.com/lit/ellenfoster/characters/\nhttp://web.archive.org/web/20201220161549/https://www.sparknotes.com/lit/emma/characters/\nhttp://web.archive.org/web/20201030133556/https://www.sparknotes.com/drama/endgame/characters/\nhttp://web.archive.org/web/20210104011516/https://www.sparknotes.com/lit/frome/characters/\nhttp://web.archive.org/web/20201024032319/https://www.sparknotes.com/short-stories/everyday-use/characters/\nhttp://web.archive.org/web/20201220161608/https://www.sparknotes.com/lit/everyman/characters/\nhttp://web.archive.org/web/20201220163754/https://www.sparknotes.com/short-stories/everything-that-rises-must-converge/characters/\nhttp://web.archive.org/web/20201220161646/https://www.sparknotes.com/lit/exit-west/characters/\nhttp://web.archive.org/web/20201220161620/https://www.sparknotes.com/lit/extremelyloud/characters/\nhttp://web.archive.org/web/20201109220009/https://www.sparknotes.com/lit/451/characters/\nhttp://web.archive.org/web/20201028211615/https://www.sparknotes.com/lit/fallenangels/characters/\nhttp://web.archive.org/web/20201220162156/https://www.sparknotes.com/lit/manzanar/characters/\nhttp://web.archive.org/web/20200925161246/https://www.sparknotes.com/drama/fences/characters/\nhttp://web.archive.org/web/20201220160610/https://www.sparknotes.com/lit/algernon/characters/\nhttp://web.archive.org/web/20200919122423/https://www.sparknotes.com/drama/foollove/characters/\nhttp://web.archive.org/web/20201027182954/https://www.sparknotes.com/lit/belltolls/characters/\nhttp://web.archive.org/web/20201127015805/https://www.sparknotes.com/lit/frankenstein/characters/\nhttp://web.archive.org/web/20201021164039/https://www.sparknotes.com/lit/a-storm-of-swords/characters/\nhttp://web.archive.org/web/20201101014344/https://www.sparknotes.com/lit/giants/characters/\nhttp://web.archive.org/web/20201126070042/https://www.sparknotes.com/lit/gilgamesh/characters/\nhttp://web.archive.org/web/20201220163756/https://www.sparknotes.com/short-stories/girl/characters/\nhttp://web.archive.org/web/20201220161703/https://www.sparknotes.com/lit/girlinterrupted/characters/\nhttp://web.archive.org/web/20200924054931/https://www.sparknotes.com/drama/glengarry/characters/\nhttp://web.archive.org/web/20201220161736/https://www.sparknotes.com/lit/goaskalice/characters/\nhttp://web.archive.org/web/20200929085536/https://www.sparknotes.com/lit/go-set-a-watchman/characters/\nhttp://web.archive.org/web/20201023000522/https://www.sparknotes.com/lit/gonewith/characters/\nhttp://web.archive.org/web/20201030111757/https://www.sparknotes.com/lit/greatex/characters/\nhttp://web.archive.org/web/20201127014805/https://www.sparknotes.com/lit/grendel/characters/\nhttp://web.archive.org/web/20200929082616/https://www.sparknotes.com/lit/gulliver/characters/\nhttp://web.archive.org/web/20201109220309/https://www.sparknotes.com/shakespeare/hamlet/characters/\nhttp://web.archive.org/web/20201220160302/https://www.sparknotes.com/drama/happydays/characters/\nhttp://web.archive.org/web/20201220161804/https://www.sparknotes.com/lit/hardtimes/characters/\nhttp://web.archive.org/web/20200928064818/https://www.sparknotes.com/short-stories/harrison-bergeron/characters/\nhttp://web.archive.org/web/20200926031923/https://www.sparknotes.com/lit/harrypotter5/characters/\nhttp://web.archive.org/web/20201220162640/https://www.sparknotes.com/lit/potter7/characters/\nhttp://web.archive.org/web/20201220162623/https://www.sparknotes.com/lit/potter6/characters/\nhttp://web.archive.org/web/20201124100154/https://www.sparknotes.com/lit/harrypotter/characters/\nhttp://web.archive.org/web/20201030020914/https://www.sparknotes.com/lit/hatchet/characters/\nhttp://web.archive.org/web/20201220161817/https://www.sparknotes.com/lit/havingoursay/characters/\nhttp://web.archive.org/web/20201220161824/https://www.sparknotes.com/lit/heart-of-darkness/characters/\nhttp://web.archive.org/web/20200923040214/https://www.sparknotes.com/shakespeare/henry4pt1/characters/\nhttp://web.archive.org/web/20201126073036/https://www.sparknotes.com/shakespeare/henryv/characters/\nhttp://web.archive.org/web/20201220161829/https://www.sparknotes.com/lit/herzog/characters/\nhttp://web.archive.org/web/20200930003636/https://www.sparknotes.com/short-stories/hills-like-white-elephants/characters/\nhttp://web.archive.org/web/20201220161841/https://www.sparknotes.com/lit/hiroshima/characters/\nhttp://web.archive.org/web/20201023220823/https://www.sparknotes.com/lit/hisdarkmaterials/characters/\nhttp://web.archive.org/web/20201124183249/https://www.sparknotes.com/lit/holes/characters/\nhttp://web.archive.org/web/20201220161852/https://www.sparknotes.com/lit/homecoming/characters/\nhttp://web.archive.org/web/20201028181407/https://www.sparknotes.com/lit/hound/characters/\nhttp://web.archive.org/web/20201220161901/https://www.sparknotes.com/lit/housedawn/characters/\nhttp://web.archive.org/web/20201027004254/https://www.sparknotes.com/lit/garciagirls/characters/\nhttp://web.archive.org/web/20201220161232/https://www.sparknotes.com/lit/cheese/characters/\nhttp://web.archive.org/web/20201220161037/https://www.sparknotes.com/lit/cagedbird/characters/\nhttp://web.archive.org/web/20201220163801/https://www.sparknotes.com/short-stories/i-stand-here-ironing/characters/\nhttp://web.archive.org/web/20201220161926/https://www.sparknotes.com/lit/irigoberta/characters/\nhttp://web.archive.org/web/20201220161916/https://www.sparknotes.com/lit/incidents/characters/\nhttp://web.archive.org/web/20201108131639/https://www.sparknotes.com/poetry/inferno/characters/\nhttp://web.archive.org/web/20201220160329/https://www.sparknotes.com/drama/inheritwind/characters/\nhttp://web.archive.org/web/20201220163833/https://www.sparknotes.com/short-stories/interpreter-of-maladies/characters/\nhttp://web.archive.org/web/20201029113131/https://www.sparknotes.com/lit/thinair/characters/\nhttp://web.archive.org/web/20201030164412/https://www.sparknotes.com/lit/into-the-wild/characters/\nhttp://web.archive.org/web/20201220161921/https://www.sparknotes.com/lit/invisibleman/characters/\nhttp://web.archive.org/web/20201220161519/https://www.sparknotes.com/lit/dolphins/characters/\nhttp://web.archive.org/web/20201126005027/https://www.sparknotes.com/lit/janeeyre/characters/\nhttp://web.archive.org/web/20201022013344/https://www.sparknotes.com/lit/johnnygun/characters/\nhttp://web.archive.org/web/20201106232319/https://www.sparknotes.com/lit/johnnytremain/characters/\nhttp://web.archive.org/web/20201027130432/https://www.sparknotes.com/lit/whirlwind/characters/\nhttp://web.archive.org/web/20201109215301/https://www.sparknotes.com/shakespeare/juliuscaesar/characters/\nhttp://web.archive.org/web/20201025230958/https://www.sparknotes.com/lit/jurassicpark/characters/\nhttp://web.archive.org/web/20201220161952/https://www.sparknotes.com/lit/kidnapped/characters/\nhttp://web.archive.org/web/20201220162041/https://www.sparknotes.com/lit/kindred/characters/\nhttp://web.archive.org/web/20201109020440/https://www.sparknotes.com/shakespeare/lear/characters/\nhttp://web.archive.org/web/20201220162012/https://www.sparknotes.com/lit/legs/characters/\nhttp://web.archive.org/web/20201027000534/https://www.sparknotes.com/lit/lesmis/characters/\nhttp://web.archive.org/web/20201220162038/https://www.sparknotes.com/lit/lieutenantnun/characters/\nhttp://web.archive.org/web/20201124212318/https://www.sparknotes.com/lit/lifeofpi/characters/\nhttp://web.archive.org/web/20201029053552/https://www.sparknotes.com/lit/lightinaugust/characters/\nhttp://web.archive.org/web/20201127014553/http://www.sparknotes.com/lit/littlewomen/characters/\nhttp://web.archive.org/web/20201126013045/https://www.sparknotes.com/lit/lolita/characters/\nhttp://web.archive.org/web/20201102154514/https://www.sparknotes.com/lit/flies/characters/\nhttp://web.archive.org/web/20201125195924/https://www.sparknotes.com/lit/returnking/characters/\nhttp://web.archive.org/web/20201220163234/https://www.sparknotes.com/lit/twotowers/characters/\nhttp://web.archive.org/web/20201025213810/https://www.sparknotes.com/lit/cholera/characters/\nhttp://web.archive.org/web/20200929210422/https://www.sparknotes.com/lit/luckyjim/characters/\nhttp://web.archive.org/web/20201023221349/https://www.sparknotes.com/lit/lucy/characters/\nhttp://web.archive.org/web/20201029094156/https://www.sparknotes.com/drama/lysistrata/characters/\nhttp://web.archive.org/web/20201127014356/https://www.sparknotes.com/shakespeare/macbeth/characters/\nhttp://web.archive.org/web/20200921092137/https://www.sparknotes.com/lit/bovary/characters/\nhttp://web.archive.org/web/20210104011642/https://www.sparknotes.com/lit/mainstreet/characters/\nhttp://web.archive.org/web/20201220160406/https://www.sparknotes.com/drama/majorbarbara/characters/\nhttp://web.archive.org/web/20201030081856/https://www.sparknotes.com/lit/melvillestories/characters/\nhttp://web.archive.org/web/20201220162155/https://www.sparknotes.com/lit/meridian/characters/\nhttp://web.archive.org/web/20201220162222/https://www.sparknotes.com/lit/middlemarch/characters/\nhttp://web.archive.org/web/20201220162242/https://www.sparknotes.com/lit/middlesex/characters/\nhttp://web.archive.org/web/20201220162244/https://www.sparknotes.com/lit/midnightschildren/characters/\nhttp://web.archive.org/web/20201025101113/https://www.sparknotes.com/drama/missjulie/characters/\nhttp://web.archive.org/web/20201026192128/https://www.sparknotes.com/lit/lonelyhearts/characters/\nhttp://web.archive.org/web/20201220162322/https://www.sparknotes.com/lit/missoula/characters/\nhttp://web.archive.org/web/20201028163641/https://www.sparknotes.com/lit/mobydick/characters/\nhttp://web.archive.org/web/20200930051923/https://www.sparknotes.com/drama/mothercourage/characters/\nhttp://web.archive.org/web/20201127091837/https://www.sparknotes.com/drama/mourning/characters/\nhttp://web.archive.org/web/20201220161407/https://www.sparknotes.com/lit/dalloway/characters/\nhttp://web.archive.org/web/20200921104748/https://www.sparknotes.com/shakespeare/muchado/characters/\nhttp://web.archive.org/web/20201127013523/http://www.sparknotes.com/lit/orientexpress/characters/\nhttp://web.archive.org/web/20201124101551/https://www.sparknotes.com/lit/brothersam/characters/\nhttp://web.archive.org/web/20200920015219/https://www.sparknotes.com/lit/asher/characters/\nhttp://web.archive.org/web/20201220162348/https://www.sparknotes.com/lit/my-sisters-keeper/characters/\nhttp://web.archive.org/web/20201101020453/https://www.sparknotes.com/lit/antonia/characters/\nhttp://web.archive.org/web/20201106232337/http://www.sparknotes.com/lit/mythology/characters/\nhttp://web.archive.org/web/20200923095021/https://www.sparknotes.com/lit/narrative/characters/\nhttp://web.archive.org/web/20201123020413/https://www.sparknotes.com/lit/nativeson/characters/\nhttp://web.archive.org/web/20201023220157/https://www.sparknotes.com/lit/nectar/characters/\nhttp://web.archive.org/web/20201023222918/https://www.sparknotes.com/lit/nervouscondition/characters/\nhttp://web.archive.org/web/20201220162425/https://www.sparknotes.com/lit/never-let-me-go/characters/\nhttp://web.archive.org/web/20201220195130/https://www.sparknotes.com/lit/night/characters/\nhttp://web.archive.org/web/20201030142404/https://www.sparknotes.com/lit/nisa/characters/\nhttp://web.archive.org/web/20201220162441/https://www.sparknotes.com/lit/nolonger/characters/\nhttp://web.archive.org/web/20201220162500/https://www.sparknotes.com/lit/northangerabbey/characters/\nhttp://web.archive.org/web/20200922113702/https://www.sparknotes.com/lit/underground/characters/\nhttp://web.archive.org/web/20200926020824/https://www.sparknotes.com/lit/numberthestars/characters/\nhttp://web.archive.org/web/20201027035319/https://www.sparknotes.com/lit/obasan/characters/\nhttp://web.archive.org/web/20200919225733/https://www.sparknotes.com/short-stories/odour-of-chrysanthemums/characters/\nhttp://web.archive.org/web/20201205073951/https://www.sparknotes.com/lit/micemen/characters/\nhttp://web.archive.org/web/20200927235655/https://www.sparknotes.com/lit/oliver/characters/\nhttp://web.archive.org/web/20201220162524/https://www.sparknotes.com/lit/onthebeach/characters/\nhttp://web.archive.org/web/20201220161433/https://www.sparknotes.com/lit/denisovich/characters/\nhttp://web.archive.org/web/20201220161350/https://www.sparknotes.com/lit/cuckoo/characters/\nhttp://web.archive.org/web/20201124031549/https://www.sparknotes.com/lit/solitude/characters/\nhttp://web.archive.org/web/20201220162500/https://www.sparknotes.com/lit/oranges/characters/\nhttp://web.archive.org/web/20201220162556/https://www.sparknotes.com/lit/orlando/characters/\nhttp://web.archive.org/web/20201030150222/https://www.sparknotes.com/lit/oryxcrake/characters/\nhttp://web.archive.org/web/20210104012234/https://www.sparknotes.com/shakespeare/othello/characters/\nhttp://web.archive.org/web/20201025201232/https://www.sparknotes.com/lit/ourtown/characters/\nhttp://web.archive.org/web/20201220160515/https://www.sparknotes.com/lit/africa/characters/\nhttp://web.archive.org/web/20201025202735/https://www.sparknotes.com/lit/paper-towns/characters/\nhttp://web.archive.org/web/20201201152228/http://www.sparknotes.com/poetry/paradiselost/characters/\nhttp://web.archive.org/web/20201220163824/https://www.sparknotes.com/short-stories/pauls-case/characters/\nhttp://web.archive.org/web/20201114001849/http://www.sparknotes.com/lit/persuasion/characters/\nhttp://web.archive.org/web/20201020150129/https://www.sparknotes.com/lit/pigsheaven/characters/\nhttp://web.archive.org/web/20201124093510/https://www.sparknotes.com/lit/pilgrims/characters/\nhttp://web.archive.org/web/20201215163318/https://www.sparknotes.com/lit/poestories/characters/\nhttp://web.archive.org/web/20201028195415/https://www.sparknotes.com/lit/pride/characters/\nhttp://web.archive.org/web/20201220160430/https://www.sparknotes.com/drama/prometheus/characters/\nhttp://web.archive.org/web/20200928094053/https://www.sparknotes.com/lit/ragtime/characters/\nhttp://web.archive.org/web/20201220162636/https://www.sparknotes.com/lit/regeneration/characters/\nhttp://web.archive.org/web/20201028172725/https://www.sparknotes.com/drama/rhinoceros/characters/\nhttp://web.archive.org/web/20200926082651/https://www.sparknotes.com/shakespeare/richardiii/characters/\nhttp://web.archive.org/web/20210104012342/https://www.sparknotes.com/short-stories/rita-hayworth-and-the-shawshank-redemption/characters/\nhttp://web.archive.org/web/20201025222129/https://www.sparknotes.com/lit/crusoe/characters/\nhttp://web.archive.org/web/20201126005819/https://www.sparknotes.com/shakespeare/romeojuliet/characters/\nhttp://web.archive.org/web/20201105232031/https://www.sparknotes.com/lit/rosencrantz/characters/\nhttp://web.archive.org/web/20201220160443/https://www.sparknotes.com/drama/salome/characters/\nhttp://web.archive.org/web/20201220162743/https://www.sparknotes.com/lit/seize/characters/\nhttp://web.archive.org/web/20201220162743/https://www.sparknotes.com/lit/sentimental/characters/\nhttp://web.archive.org/web/20201029054648/https://www.sparknotes.com/lit/shabanu/characters/\nhttp://web.archive.org/web/20201025002101/https://www.sparknotes.com/lit/shane/characters/\nhttp://web.archive.org/web/20201220163857/https://www.sparknotes.com/short-stories/shiloh/characters/\nhttp://web.archive.org/web/20201119150251/https://www.sparknotes.com/lit/siddhartha/characters/\nhttp://web.archive.org/web/20200919181500/https://www.sparknotes.com/lit/silas/characters/\nhttp://web.archive.org/web/20201028115355/https://www.sparknotes.com/lit/gawain/characters/\nhttp://web.archive.org/web/20201105231812/https://www.sparknotes.com/drama/sixcharacters/characters/\nhttp://web.archive.org/web/20201027124437/https://www.sparknotes.com/lit/slaughter/characters/\nhttp://web.archive.org/web/20201220161136/https://www.sparknotes.com/lit/cedars/characters/\nhttp://web.archive.org/web/20201021171256/https://www.sparknotes.com/lit/solomon/characters/\nhttp://web.archive.org/web/20201220163833/https://www.sparknotes.com/short-stories/sonnys-blues/characters/\nhttp://web.archive.org/web/20201220162843/https://www.sparknotes.com/lit/sophies-choice/characters/\nhttp://web.archive.org/web/20201024154858/https://www.sparknotes.com/lit/sophie/characters/\nhttp://web.archive.org/web/20201220162857/https://www.sparknotes.com/lit/sounder/characters/\nhttp://web.archive.org/web/20201220160425/https://www.sparknotes.com/drama/spanishtragedy/characters/\nhttp://web.archive.org/web/20201019221218/https://www.sparknotes.com/lit/steppenwolf/characters/\nhttp://web.archive.org/web/20201220163852/https://www.sparknotes.com/short-stories/super-frog-saves-tokyo/characters/\nhttp://web.archive.org/web/20201220162915/https://www.sparknotes.com/lit/tess/characters/\nhttp://web.archive.org/web/20201220162952/https://www.sparknotes.com/lit/the-absolutely-true-diary-of-a-part-time-indian/characters/\nhttp://web.archive.org/web/20201215123019/https://www.sparknotes.com/lit/huckfinn/characters/\nhttp://web.archive.org/web/20200922120700/https://www.sparknotes.com/lit/tomsawyer/characters/\nhttp://web.archive.org/web/20201114000820/https://www.sparknotes.com/lit/aeneid/characters/\nhttp://web.archive.org/web/20201126065140/https://www.sparknotes.com/lit/the-alchemist/characters/\nhttp://web.archive.org/web/20201112184622/https://www.sparknotes.com/lit/ambassadors/characters/\nhttp://web.archive.org/web/20201025032726/https://www.sparknotes.com/lit/american/characters/\nhttp://web.archive.org/web/20201124043032/https://www.sparknotes.com/lit/assistant/characters/\nhttp://web.archive.org/web/20200922054318/https://www.sparknotes.com/lit/malcolmx/characters/\nhttp://web.archive.org/web/20200923095206/https://www.sparknotes.com/lit/missjane/characters/\nhttp://web.archive.org/web/20201127014542/https://www.sparknotes.com/lit/awakening/characters/\nhttp://web.archive.org/web/20201114002034/http://www.sparknotes.com/drama/bacchae/characters/\nhttp://web.archive.org/web/20200920014604/https://www.sparknotes.com/lit/beantrees/characters/\nhttp://web.archive.org/web/20201123171359/https://www.sparknotes.com/lit/belljar/characters/\nhttp://web.archive.org/web/20201125065409/https://www.sparknotes.com/lit/bigsleep/characters/\nhttp://web.archive.org/web/20201220163855/https://www.sparknotes.com/short-stories/the-birthmark/characters/\nhttp://web.archive.org/web/20201220160855/https://www.sparknotes.com/lit/blackprince/characters/\nhttp://web.archive.org/web/20201220160909/https://www.sparknotes.com/lit/blindassassin/characters/\nhttp://web.archive.org/web/20201105232053/https://www.sparknotes.com/lit/bluesteye/characters/\nhttp://web.archive.org/web/20201025192834/https://www.sparknotes.com/lit/bonesetters-daughter/characters/\nhttp://web.archive.org/web/20200929235428/https://www.sparknotes.com/lit/the-book-thief/characters/\nhttp://web.archive.org/web/20201220162209/https://www.sparknotes.com/lit/margerykempe/characters/\nhttp://web.archive.org/web/20201220161324/https://www.sparknotes.com/lit/cityladies/characters/\nhttp://web.archive.org/web/20201220160855/https://www.sparknotes.com/lit/boy-in-striped-pajamas/characters/\nhttp://web.archive.org/web/20201220160925/https://www.sparknotes.com/lit/brief-wondrous-life-oscar-wao/characters/\nhttp://web.archive.org/web/20201128041508/https://www.sparknotes.com/lit/brothersk/characters/\nhttp://web.archive.org/web/20201220161001/https://www.sparknotes.com/lit/cainemutiny/characters/\nhttp://web.archive.org/web/20201201204746/https://www.sparknotes.com/lit/call/characters/\nhttp://web.archive.org/web/20201105083744/https://www.sparknotes.com/lit/the-canterbury-tales/characters/\nhttp://web.archive.org/web/20201105231926/http://www.sparknotes.com/lit/catcher/characters/\nhttp://web.archive.org/web/20201220160227/https://www.sparknotes.com/drama/chairs/characters/\nhttp://web.archive.org/web/20200919221355/https://www.sparknotes.com/drama/cherryorchard/characters/\nhttp://web.archive.org/web/20201127015742/http://www.sparknotes.com/lit/chocolatewar/characters/\nhttp://web.archive.org/web/20200927060640/https://www.sparknotes.com/lit/chosen/characters/\nhttp://web.archive.org/web/20201220163939/https://www.sparknotes.com/short-stories/the-chrysanthemums/characters/\nhttp://web.archive.org/web/20201220160442/https://www.sparknotes.com/drama/theclouds/characters/\nhttp://web.archive.org/web/20201124205705/https://www.sparknotes.com/lit/purple/characters/\nhttp://web.archive.org/web/20200919184634/https://www.sparknotes.com/lit/colorofwater/characters/\nhttp://web.archive.org/web/20201220161356/https://www.sparknotes.com/lit/contender/characters/\nhttp://web.archive.org/web/20201220162327/https://www.sparknotes.com/lit/montecristo/characters/\nhttp://web.archive.org/web/20201209213258/https://www.sparknotes.com/lit/crucible/characters/\nhttp://web.archive.org/web/20201028123852/https://www.sparknotes.com/lit/the-curious-incident-of-the-dog-in-the-night-time/characters/\nhttp://web.archive.org/web/20201220161417/https://www.sparknotes.com/lit/davincicode/characters/\nhttp://web.archive.org/web/20201029154829/https://www.sparknotes.com/lit/locust/characters/\nhttp://web.archive.org/web/20201023001053/https://www.sparknotes.com/lit/ivanilych/characters/\nhttp://web.archive.org/web/20201220163002/https://www.sparknotes.com/lit/the-devil-in-the-white-city/characters/\nhttp://web.archive.org/web/20201220160304/https://www.sparknotes.com/drama/dumbwaiter/characters/\nhttp://web.archive.org/web/20201029050713/https://www.sparknotes.com/lit/englishpatient/characters/\nhttp://web.archive.org/web/20201220163003/https://www.sparknotes.com/lit/the-fault-in-our-stars/characters/\nhttp://web.archive.org/web/20201024063032/https://www.sparknotes.com/lit/fellowship/characters/\nhttp://web.archive.org/web/20200921105411/https://www.sparknotes.com/drama/theflies/characters/\nhttp://web.archive.org/web/20201020181714/https://www.sparknotes.com/lit/fountainhead/characters/\nhttp://web.archive.org/web/20201029041823/https://www.sparknotes.com/lit/the-girl-with-the-dragon-tattoo/characters/\nhttp://web.archive.org/web/20201127012805/https://www.sparknotes.com/lit/giver/characters/\nhttp://web.archive.org/web/20201220161719/https://www.sparknotes.com/lit/glasscastle/characters/\nhttp://web.archive.org/web/20201114001405/https://www.sparknotes.com/lit/menagerie/characters/\nhttp://web.archive.org/web/20201220161720/https://www.sparknotes.com/lit/goodearth/characters/\nhttp://web.archive.org/web/20201220161746/https://www.sparknotes.com/lit/goodsoldier/characters/\nhttp://web.archive.org/web/20201101133310/https://www.sparknotes.com/lit/grapesofwrath/characters/\nhttp://web.archive.org/web/20201109220239/https://www.sparknotes.com/lit/gatsby/characters/\nhttp://web.archive.org/web/20200928213705/https://www.sparknotes.com/lit/handmaid/characters/\nhttp://web.archive.org/web/20200921130822/https://www.sparknotes.com/lit/the-hate-u-give/characters/\nhttp://web.archive.org/web/20201027061437/https://www.sparknotes.com/lit/lonelyhunter/characters/\nhttp://web.archive.org/web/20200923163817/https://www.sparknotes.com/lit/hobbit/characters/\nhttp://web.archive.org/web/20201220161852/https://www.sparknotes.com/lit/hours/characters/\nhttp://web.archive.org/web/20201220162322/https://www.sparknotes.com/lit/mirth/characters/\nhttp://web.archive.org/web/20201220162753/https://www.sparknotes.com/lit/sevengables/characters/\nhttp://web.archive.org/web/20201030235108/https://www.sparknotes.com/lit/houseofspirits/characters/\nhttp://web.archive.org/web/20201109220523/https://www.sparknotes.com/lit/mangostreet/characters/\nhttp://web.archive.org/web/20201022012812/https://www.sparknotes.com/lit/the-hunger-games/characters/\nhttp://web.archive.org/web/20201026195323/https://www.sparknotes.com/drama/icemancometh/characters/\nhttp://web.archive.org/web/20201031081011/https://www.sparknotes.com/lit/idiot/characters/\nhttp://web.archive.org/web/20201025114230/https://www.sparknotes.com/lit/iliad/characters/\nhttp://web.archive.org/web/20201220161915/https://www.sparknotes.com/lit/immortal-life/characters/\nhttp://web.archive.org/web/20200928091133/https://www.sparknotes.com/lit/earnest/characters/\nhttp://web.archive.org/web/20201028174011/https://www.sparknotes.com/drama/jewofmalta/characters/\nhttp://web.archive.org/web/20201028171305/https://www.sparknotes.com/short-stories/the-jilting-of-granny-weatherall/characters/\nhttp://web.archive.org/web/20201105231758/https://www.sparknotes.com/lit/joyluck/characters/\nhttp://web.archive.org/web/20201020233748/https://www.sparknotes.com/lit/joysofmotherhood/characters/\nhttp://web.archive.org/web/20201024094306/https://www.sparknotes.com/lit/jungle/characters/\nhttp://web.archive.org/web/20201025201358/https://www.sparknotes.com/lit/killerangels/characters/\nhttp://web.archive.org/web/20201220162040/https://www.sparknotes.com/lit/kitchengods/characters/\nhttp://web.archive.org/web/20201123161537/https://www.sparknotes.com/lit/the-kite-runner/characters/\nhttp://web.archive.org/web/20201023003401/https://www.sparknotes.com/lit/land/characters/\nhttp://web.archive.org/web/20201020150416/https://www.sparknotes.com/lit/mohicans/characters/\nhttp://web.archive.org/web/20201220160329/https://www.sparknotes.com/drama/libationbearers/characters/\nhttp://web.archive.org/web/20201220162110/https://www.sparknotes.com/lit/lightforest/characters/\nhttp://web.archive.org/web/20201001220703/https://www.sparknotes.com/lit/lion/characters/\nhttp://web.archive.org/web/20200920041040/https://www.sparknotes.com/lit/littleprince/characters/\nhttp://web.archive.org/web/20201220163951/https://www.sparknotes.com/short-stories/the-lottery/characters/\nhttp://web.archive.org/web/20201220160339/https://www.sparknotes.com/drama/maids/characters/\nhttp://web.archive.org/web/20201220163920/https://www.sparknotes.com/short-stories/the-man-who-was-almost-a-man/characters/\nhttp://web.archive.org/web/20201220161102/https://www.sparknotes.com/lit/casterbridge/characters/\nhttp://web.archive.org/web/20201025195736/https://www.sparknotes.com/lit/memberwedding/characters/\nhttp://web.archive.org/web/20201127014042/http://www.sparknotes.com/shakespeare/merchant/characters/\nhttp://web.archive.org/web/20201127112212/https://www.sparknotes.com/lit/metamorph/characters/\nhttp://web.archive.org/web/20201220162325/https://www.sparknotes.com/lit/millonthefloss/characters/\nhttp://web.archive.org/web/20201220160353/https://www.sparknotes.com/drama/misanthrope/characters/\nhttp://web.archive.org/web/20201101014605/https://www.sparknotes.com/lit/moonstone/characters/\nhttp://web.archive.org/web/20201111194227/https://www.sparknotes.com/short-stories/the-most-dangerous-game/characters/\nhttp://web.archive.org/web/20201220163055/https://www.sparknotes.com/lit/the-namesake/characters/\nhttp://web.archive.org/web/20201220162408/https://www.sparknotes.com/lit/natural/characters/\nhttp://web.archive.org/web/20201220164001/https://www.sparknotes.com/short-stories/the-necklace/characters/\nhttp://web.archive.org/web/20201127015739/http://www.sparknotes.com/lit/odyssey/characters/\nhttp://web.archive.org/web/20201124095117/https://www.sparknotes.com/lit/oldman/characters/\nhttp://web.archive.org/web/20200929202303/https://www.sparknotes.com/lit/futureking/characters/\nhttp://web.archive.org/web/20210104012355/https://www.sparknotes.com/short-stories/the-open-boat/characters/\nhttp://web.archive.org/web/20201114001604/http://www.sparknotes.com/lit/outsiders/characters/\nhttp://web.archive.org/web/20201024152609/https://www.sparknotes.com/lit/pearl/characters/\nhttp://web.archive.org/web/20201220163122/https://www.sparknotes.com/lit/the-perks-of-being-a-wallflower/characters/\nhttp://web.archive.org/web/20201030165042/https://www.sparknotes.com/lit/tollbooth/characters/\nhttp://web.archive.org/web/20201027175830/https://www.sparknotes.com/drama/piano/characters/\nhttp://web.archive.org/web/20201105231956/https://www.sparknotes.com/lit/doriangray/characters/\nhttp://web.archive.org/web/20200919191804/https://www.sparknotes.com/lit/poisonwood/characters/\nhttp://web.archive.org/web/20200925070517/https://www.sparknotes.com/lit/powerglory/characters/\nhttp://web.archive.org/web/20201220163101/https://www.sparknotes.com/lit/the-quiet-american/characters/\nhttp://web.archive.org/web/20201028200453/https://www.sparknotes.com/lit/redbadge/characters/\nhttp://web.archive.org/web/20201024195038/https://www.sparknotes.com/lit/redtent/characters/\nhttp://web.archive.org/web/20201109215310/https://www.sparknotes.com/short-stories/the-red-headed-league/characters/\nhttp://web.archive.org/web/20200926032113/https://www.sparknotes.com/lit/remains/characters/\nhttp://web.archive.org/web/20201212024217/https://www.sparknotes.com/lit/scarlet/characters/\nhttp://web.archive.org/web/20200922044313/https://www.sparknotes.com/lit/screwtape-letters/characters/\nhttp://web.archive.org/web/20201027013634/https://www.sparknotes.com/drama/seagull/characters/\nhttp://web.archive.org/web/20200923010908/https://www.sparknotes.com/lit/secretgarden/characters/\nhttp://web.archive.org/web/20201019221446/https://www.sparknotes.com/lit/secretbees/characters/\nhttp://web.archive.org/web/20201127114705/https://www.sparknotes.com/lit/shipping/characters/\nhttp://web.archive.org/web/20201029111713/https://www.sparknotes.com/lit/sisterpants/characters/\nhttp://web.archive.org/web/20201109215502/http://www.sparknotes.com/lit/soundfury/characters/\nhttp://web.archive.org/web/20200921114131/https://www.sparknotes.com/lit/sovereignty/characters/\nhttp://web.archive.org/web/20201220164014/https://www.sparknotes.com/short-stories/the-story-of-an-hour/characters/\nhttp://web.archive.org/web/20200928000747/https://www.sparknotes.com/lit/stranger/characters/\nhttp://web.archive.org/web/20201026185152/https://www.sparknotes.com/lit/sun/characters/\nhttp://web.archive.org/web/20201023214345/https://www.sparknotes.com/short-stories/the-swimmer/characters/\nhttp://web.archive.org/web/20200921104659/https://www.sparknotes.com/shakespeare/shrew/characters/\nhttp://web.archive.org/web/20201111204908/https://www.sparknotes.com/shakespeare/tempest/characters/\nhttp://web.archive.org/web/20201220162938/https://www.sparknotes.com/lit/testaments/characters/\nhttp://web.archive.org/web/20201025231609/https://www.sparknotes.com/lit/thingscarried/characters/\nhttp://web.archive.org/web/20201220162704/https://www.sparknotes.com/lit/screw/characters/\nhttp://web.archive.org/web/20201220163256/https://www.sparknotes.com/lit/unbearablelightness/characters/\nhttp://web.archive.org/web/20201220163326/https://www.sparknotes.com/lit/unvanquished/characters/\nhttp://web.archive.org/web/20201220163346/https://www.sparknotes.com/lit/waves/characters/\nhttp://web.archive.org/web/20201220163457/https://www.sparknotes.com/lit/womanwarrior/characters/\nhttp://web.archive.org/web/20201023214826/https://www.sparknotes.com/lit/brewsterplace/characters/\nhttp://web.archive.org/web/20200919091603/https://www.sparknotes.com/lit/yearmagical/characters/\nhttp://web.archive.org/web/20200922231238/https://www.sparknotes.com/lit/yellowwallpaper/characters/\nhttp://web.archive.org/web/20201031141339/https://www.sparknotes.com/lit/eyes/characters/\nhttp://web.archive.org/web/20200926223040/https://www.sparknotes.com/lit/things/characters/\nhttp://web.archive.org/web/20200919101535/https://www.sparknotes.com/lit/thisboyslife/characters/\nhttp://web.archive.org/web/20201220163120/https://www.sparknotes.com/lit/three-cups-of-tea/characters/\nhttp://web.archive.org/web/20201019221200/https://www.sparknotes.com/lit/through-the-looking-glass/characters/\nhttp://web.archive.org/web/20201105231920/http://www.sparknotes.com/lit/mocking/characters/\nhttp://web.archive.org/web/20201220162123/https://www.sparknotes.com/lit/lighthouse/characters/\nhttp://web.archive.org/web/20201220163202/https://www.sparknotes.com/lit/tomjones/characters/\nhttp://web.archive.org/web/20201220163157/https://www.sparknotes.com/lit/tortillaflat/characters/\nhttp://web.archive.org/web/20201220163217/https://www.sparknotes.com/lit/treasure/characters/\nhttp://web.archive.org/web/20201123170136/https://www.sparknotes.com/drama/truewest/characters/\nhttp://web.archive.org/web/20201220162415/https://www.sparknotes.com/lit/morrie/characters/\nhttp://web.archive.org/web/20201125171127/https://www.sparknotes.com/shakespeare/twelfthnight/characters/\nhttp://web.archive.org/web/20201220163250/https://www.sparknotes.com/lit/typee/characters/\nhttp://web.archive.org/web/20201020153634/https://www.sparknotes.com/lit/ulysses/characters/\nhttp://web.archive.org/web/20201024090710/https://www.sparknotes.com/lit/uncletom/characters/\nhttp://web.archive.org/web/20201127170955/https://www.sparknotes.com/drama/unclevanya/characters/\nhttp://web.archive.org/web/20201124175003/https://www.sparknotes.com/lit/virginsuicides/characters/\nhttp://web.archive.org/web/20201220160538/https://www.sparknotes.com/drama/volpone/characters/\nhttp://web.archive.org/web/20201124070232/https://www.sparknotes.com/lit/walden/characters/\nhttp://web.archive.org/web/20201030111951/https://www.sparknotes.com/lit/twomoons/characters/\nhttp://web.archive.org/web/20201112003936/https://www.sparknotes.com/lit/warandpeace/characters/\nhttp://web.archive.org/web/20201220163353/https://www.sparknotes.com/lit/warriorsdontcry/characters/\nhttp://web.archive.org/web/20201023003057/https://www.sparknotes.com/lit/watership/characters/\nhttp://web.archive.org/web/20201220164006/https://www.sparknotes.com/short-stories/what-we-talk-about-when-we-talk-about-love/characters/\nhttp://web.archive.org/web/20201220163514/https://www.sparknotes.com/lit/whenheaven/characters/\nhttp://web.archive.org/web/20201220163431/https://www.sparknotes.com/lit/whenlegends/characters/\nhttp://web.archive.org/web/20201027125936/https://www.sparknotes.com/short-stories/where-are-you-going-where-have-you-been/characters/\nhttp://web.archive.org/web/20201220163437/https://www.sparknotes.com/lit/whitenoise/characters/\nhttp://web.archive.org/web/20201220164016/https://www.sparknotes.com/short-stories/why-i-live-at-the-po/characters/\nhttp://web.archive.org/web/20201024094348/https://www.sparknotes.com/lit/sargasso/characters/\nhttp://web.archive.org/web/20201220164035/https://www.sparknotes.com/short-stories/winter-dreams/characters/\nhttp://web.archive.org/web/20201220162626/https://www.sparknotes.com/lit/pointzero/characters/\nhttp://web.archive.org/web/20200728153740/https://www.sparknotes.com/lit/wuthering/characters/\nhttp://web.archive.org/web/20201025030004/https://www.sparknotes.com/short-stories/young-goodman-brown/characters/\n"
     ]
    }
   ],
   "source": [
    "infos = read_jsonl('temp_files/full_char_infos.jsonl')\n",
    "visited = set()\n",
    "for info in infos:\n",
    "    url = info['cached_url']\n",
    "    if 'sparknotes' in url and url not in visited:\n",
    "        visited.add(url)\n",
    "        print(url)"
   ]
  },
  {
   "cell_type": "code",
   "execution_count": 100,
   "metadata": {},
   "outputs": [],
   "source": [
    "data = []\n",
    "data.extend(read_csv('temp_files/final/gutenberg_output.csv'))\n",
    "data.extend(read_csv('temp_files/final/smashwords_output.csv'))\n",
    "data.extend(read_csv('temp_files/final/relationships.csv'))\n",
    "\n",
    "with open('temp_files/final/bookcorpus_title.txt') as in_f:\n",
    "    for line in in_f:\n",
    "        title = line.strip()\n",
    "        if title is not None: data.append({\n",
    "            'title': title,\n",
    "        })\n",
    "lit_infos = read_jsonl('temp_files/final/full_lit_infos.jsonl')\n",
    "char_infos = read_jsonl('temp_files/final/full_char_infos.jsonl')\n"
   ]
  },
  {
   "cell_type": "code",
   "execution_count": 96,
   "metadata": {},
   "outputs": [],
   "source": [
    "obdc_wayback = OrigBookDataCenter.build_from_wayback_database()"
   ]
  },
  {
   "cell_type": "code",
   "execution_count": 107,
   "metadata": {},
   "outputs": [],
   "source": [
    "gbooks = {}\n",
    "for d in data:\n",
    "    title = d['title'].lower()\n",
    "    title = ''.join(title.split())\n",
    "    author = d['author'] if 'author' in d else None\n",
    "    authors = gbooks.get(title, [])\n",
    "    if author is not None:\n",
    "        author = ' '.join(author.split(', ')[::-1])\n",
    "        authors.append(author.lower())\n",
    "    gbooks[title] = authors\n",
    "\n",
    "lbook_titles = []\n",
    "for info in char_infos:\n",
    "    title = info['new_book_title'].lower()\n",
    "    title = ''.join(title.split())\n",
    "    lbook_titles.append(title)\n",
    "\n",
    "lbooks = {}\n",
    "for (title, _), info in obdc_wayback.literatures.items():\n",
    "    title = title.lower()\n",
    "    title = ''.join(title.split())\n",
    "    if title not in lbook_titles: continue\n",
    "    author = info.author\n",
    "    authors = lbooks.get(title, [])\n",
    "    if author is not None:\n",
    "        authors.append(author.lower())\n",
    "    lbooks[title] = authors"
   ]
  },
  {
   "cell_type": "code",
   "execution_count": 108,
   "metadata": {},
   "outputs": [],
   "source": [
    "from IPython.display import clear_output\n",
    "def main(rough_match=False, manual_check=False):\n",
    "    count = 0\n",
    "    not_found = []\n",
    "    for title in lbook_titles:\n",
    "        author = lbooks[title][0]\n",
    "        gbook_title = gbooks.get(title, None)\n",
    "        found = False\n",
    "        if gbook_title is not None:\n",
    "            count += 1\n",
    "            found = True\n",
    "        elif rough_match:\n",
    "            print(f'original: {title}, {author}')\n",
    "            print()\n",
    "            candidates = []\n",
    "            second_candidates = []\n",
    "            others = []\n",
    "            for key, authors in gbooks.items():\n",
    "                if title in key:\n",
    "                    if author in authors:\n",
    "                        candidates.append((key, authors))\n",
    "                        continue\n",
    "                    \n",
    "                    found = False\n",
    "                    for token in author.split():\n",
    "                        for name in authors:\n",
    "                            if token in name:\n",
    "                                found = True\n",
    "                                second_candidates.append((key, authors))\n",
    "                                break\n",
    "                        if found: break\n",
    "                    if found: continue\n",
    "\n",
    "                    others.append((key, authors))\n",
    "                                \n",
    "            if len(candidates) > 0 or len(second_candidates) > 0:\n",
    "                count += 1\n",
    "                found = True\n",
    "            else:\n",
    "                if len(others) > 0:\n",
    "                    print('Others')\n",
    "                    for okey, oauthors in others:\n",
    "                        print(okey, oauthors)\n",
    "                    print()\n",
    "\n",
    "                    if manual_check:\n",
    "                        a = input()\n",
    "                        if a == 'q': break\n",
    "                        if a == 'a':\n",
    "                            count += 1\n",
    "                            found = True\n",
    "            clear_output(wait=True)\n",
    "        if not found: not_found.append((title, author))\n",
    "    print(count)\n",
    "    return not_found"
   ]
  },
  {
   "cell_type": "code",
   "execution_count": 109,
   "metadata": {},
   "outputs": [
    {
     "output_type": "stream",
     "name": "stdout",
     "text": [
      "3287\n"
     ]
    }
   ],
   "source": [
    "not_found = main(rough_match=True)"
   ]
  },
  {
   "cell_type": "code",
   "execution_count": 106,
   "metadata": {},
   "outputs": [
    {
     "output_type": "execute_result",
     "data": {
      "text/plain": [
       "0.3456153279292557"
      ]
     },
     "metadata": {},
     "execution_count": 106
    }
   ],
   "source": [
    "3283 / len(char_infos)"
   ]
  },
  {
   "cell_type": "code",
   "execution_count": 93,
   "metadata": {},
   "outputs": [],
   "source": [
    "import csv\n",
    "with open('temp_files/not_found_titles.csv', 'w') as out_f:\n",
    "    writer = csv.writer(out_f, delimiter=',', quotechar='\"', quoting=csv.QUOTE_MINIMAL)\n",
    "    writer.writerow(['title', 'author'])\n",
    "    for title, author in not_found:\n",
    "        writer.writerow([title, author])"
   ]
  },
  {
   "source": [],
   "cell_type": "markdown",
   "metadata": {}
  },
  {
   "cell_type": "code",
   "execution_count": 2,
   "metadata": {},
   "outputs": [],
   "source": [
    "# helper functions\n",
    "import json, csv\n",
    "def read_jsonl(filename):\n",
    "    data = []\n",
    "    with open(filename) as in_f:\n",
    "        for line in in_f.readlines():\n",
    "            data.append(json.loads(line))\n",
    "    return data\n",
    "\n",
    "def write_jsonl(filename, data):\n",
    "    with open(filename, 'w') as out_f:\n",
    "        for d in data:\n",
    "            out_f.write(json.dumps(d)+'\\n')\n",
    "\n",
    "def read_csv_as_object(filename):\n",
    "    data = []\n",
    "    with open(filename) as in_f:\n",
    "        reader = csv.reader(in_f, delimiter=',', quotechar='\"', quoting=csv.QUOTE_MINIMAL)\n",
    "        header = None\n",
    "        for i, row in enumerate(reader):\n",
    "            if i == 0:\n",
    "                header = row\n",
    "            else:\n",
    "                data.append({\n",
    "                    key: val for key, val in zip(header, row)\n",
    "                })\n",
    "    return data"
   ]
  },
  {
   "source": [
    "# old sources\n",
    "old_final_data = read_jsonl('data/v04/masked_char_data_filtered_by_name_and_description.jsonl')"
   ],
   "cell_type": "code",
   "metadata": {},
   "execution_count": 3,
   "outputs": []
  },
  {
   "source": [
    "lit_info_data = read_jsonl('temp_files/full_lit_infos.jsonl')\n",
    "lit_old_to_new = {}\n",
    "lit_new_to_old = {}\n",
    "for d in lit_info_data:\n",
    "    old_lit_key = (d['old_book_title'], d['old_source'])\n",
    "    new_lit_key = (d['new_book_title'], d['new_source'])\n",
    "    \n",
    "    if old_lit_key in lit_old_to_new: raise KeyError\n",
    "    lit_old_to_new[old_lit_key] = new_lit_key\n",
    "    \n",
    "    if new_lit_key in lit_new_to_old: raise KeyError\n",
    "    lit_new_to_old[new_lit_key] = old_lit_key\n",
    "\n",
    "char_info_data = read_jsonl('temp_files/full_char_infos.jsonl')\n",
    "char_old_to_new = {}\n",
    "char_new_to_old = {}\n",
    "for d in char_info_data:\n",
    "    old_char_key = (d['old_book_title'], d['old_source'], d['old_character_name'])\n",
    "    new_char_key = (d['new_book_title'], d['new_source'], d['new_character_name'])\n",
    "    \n",
    "    if old_char_key in char_old_to_new: raise KeyError\n",
    "    char_old_to_new[old_char_key] = new_char_key\n",
    "\n",
    "    if new_char_key in char_new_to_old: raise KeyError\n",
    "    char_new_to_old[new_char_key] = old_char_key"
   ],
   "cell_type": "code",
   "metadata": {},
   "execution_count": 5,
   "outputs": [
    {
     "output_type": "stream",
     "name": "stdout",
     "text": [
      "('Pygmalion', 'litcharts', 'Eliza Doolittle')\n"
     ]
    },
    {
     "output_type": "error",
     "ename": "KeyError",
     "evalue": "",
     "traceback": [
      "\u001b[0;31m---------------------------------------------------------------------------\u001b[0m",
      "\u001b[0;31mKeyError\u001b[0m                                  Traceback (most recent call last)",
      "\u001b[0;32m<ipython-input-5-76132e780446>\u001b[0m in \u001b[0;36m<module>\u001b[0;34m\u001b[0m\n\u001b[1;32m     24\u001b[0m     \u001b[0;32mif\u001b[0m \u001b[0mnew_char_key\u001b[0m \u001b[0;32min\u001b[0m \u001b[0mchar_new_to_old\u001b[0m\u001b[0;34m:\u001b[0m\u001b[0;34m\u001b[0m\u001b[0;34m\u001b[0m\u001b[0m\n\u001b[1;32m     25\u001b[0m         \u001b[0mprint\u001b[0m\u001b[0;34m(\u001b[0m\u001b[0mnew_char_key\u001b[0m\u001b[0;34m)\u001b[0m\u001b[0;34m\u001b[0m\u001b[0;34m\u001b[0m\u001b[0m\n\u001b[0;32m---> 26\u001b[0;31m         \u001b[0;32mraise\u001b[0m \u001b[0mKeyError\u001b[0m\u001b[0;34m\u001b[0m\u001b[0;34m\u001b[0m\u001b[0m\n\u001b[0m\u001b[1;32m     27\u001b[0m     \u001b[0mchar_new_to_old\u001b[0m\u001b[0;34m[\u001b[0m\u001b[0mnew_char_key\u001b[0m\u001b[0;34m]\u001b[0m \u001b[0;34m=\u001b[0m \u001b[0mold_char_key\u001b[0m\u001b[0;34m\u001b[0m\u001b[0;34m\u001b[0m\u001b[0m\n",
      "\u001b[0;31mKeyError\u001b[0m: "
     ]
    }
   ]
  },
  {
   "cell_type": "code",
   "execution_count": null,
   "metadata": {},
   "outputs": [],
   "source": []
  }
 ]
}